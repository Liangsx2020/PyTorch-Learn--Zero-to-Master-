{
 "cells": [
  {
   "cell_type": "code",
   "execution_count": 1,
   "id": "311ecfe6",
   "metadata": {},
   "outputs": [
    {
     "data": {
      "text/plain": [
       "'cuda'"
      ]
     },
     "execution_count": 1,
     "metadata": {},
     "output_type": "execute_result"
    }
   ],
   "source": [
    "# Import torch\n",
    "import torch\n",
    "\n",
    "# Setup device agnostic code\n",
    "device = \"cuda\" if torch.cuda.is_available() else \"cpu\"\n",
    "device"
   ]
  },
  {
   "cell_type": "code",
   "execution_count": 2,
   "id": "bb3d7107",
   "metadata": {},
   "outputs": [
    {
     "data": {
      "text/plain": [
       "<torch._C.Generator at 0x7fb59b1efd10>"
      ]
     },
     "execution_count": 2,
     "metadata": {},
     "output_type": "execute_result"
    }
   ],
   "source": [
    "# Setup random seed\n",
    "RANDOM_SEED = 42\n",
    "\n",
    "torch.manual_seed(RANDOM_SEED)"
   ]
  },
  {
   "cell_type": "markdown",
   "id": "17fadb7a",
   "metadata": {},
   "source": [
    "### 1. Make a binary classification dataset with Scikit-Learn's `make_moons()` function.\n",
    "\n",
    "- For consistency, the dataset should have 1000 samples and a random_state=42.\n",
    "- Turn the data into PyTorch tensors.\n",
    "- Split the data into training and test sets using train_test_split with 80% training and 20% testing."
   ]
  },
  {
   "cell_type": "code",
   "execution_count": 3,
   "id": "3e9d3283",
   "metadata": {},
   "outputs": [
    {
     "data": {
      "text/plain": [
       "(array([[ 0.00872719,  0.36817352],\n",
       "        [ 0.921384  , -0.49690497],\n",
       "        [ 0.94022577, -0.49821192],\n",
       "        [ 0.46587532, -0.34540571],\n",
       "        [-0.85041204,  0.52611726]]),\n",
       " array([1, 1, 1, 1, 0]))"
      ]
     },
     "execution_count": 3,
     "metadata": {},
     "output_type": "execute_result"
    }
   ],
   "source": [
    "from sklearn.datasets import make_moons\n",
    "\n",
    "X_numpy, y_numpy = make_moons(n_samples=1000, random_state=RANDOM_SEED)\n",
    "\n",
    "X_numpy[:5], y_numpy[:5]"
   ]
  },
  {
   "cell_type": "code",
   "execution_count": 4,
   "id": "a4081552",
   "metadata": {},
   "outputs": [
    {
     "data": {
      "text/html": [
       "<div>\n",
       "<style scoped>\n",
       "    .dataframe tbody tr th:only-of-type {\n",
       "        vertical-align: middle;\n",
       "    }\n",
       "\n",
       "    .dataframe tbody tr th {\n",
       "        vertical-align: top;\n",
       "    }\n",
       "\n",
       "    .dataframe thead th {\n",
       "        text-align: right;\n",
       "    }\n",
       "</style>\n",
       "<table border=\"1\" class=\"dataframe\">\n",
       "  <thead>\n",
       "    <tr style=\"text-align: right;\">\n",
       "      <th></th>\n",
       "      <th>X1</th>\n",
       "      <th>X2</th>\n",
       "      <th>label</th>\n",
       "    </tr>\n",
       "  </thead>\n",
       "  <tbody>\n",
       "    <tr>\n",
       "      <th>0</th>\n",
       "      <td>0.008727</td>\n",
       "      <td>0.368174</td>\n",
       "      <td>1</td>\n",
       "    </tr>\n",
       "    <tr>\n",
       "      <th>1</th>\n",
       "      <td>0.921384</td>\n",
       "      <td>-0.496905</td>\n",
       "      <td>1</td>\n",
       "    </tr>\n",
       "    <tr>\n",
       "      <th>2</th>\n",
       "      <td>0.940226</td>\n",
       "      <td>-0.498212</td>\n",
       "      <td>1</td>\n",
       "    </tr>\n",
       "    <tr>\n",
       "      <th>3</th>\n",
       "      <td>0.465875</td>\n",
       "      <td>-0.345406</td>\n",
       "      <td>1</td>\n",
       "    </tr>\n",
       "    <tr>\n",
       "      <th>4</th>\n",
       "      <td>-0.850412</td>\n",
       "      <td>0.526117</td>\n",
       "      <td>0</td>\n",
       "    </tr>\n",
       "  </tbody>\n",
       "</table>\n",
       "</div>"
      ],
      "text/plain": [
       "         X1        X2  label\n",
       "0  0.008727  0.368174      1\n",
       "1  0.921384 -0.496905      1\n",
       "2  0.940226 -0.498212      1\n",
       "3  0.465875 -0.345406      1\n",
       "4 -0.850412  0.526117      0"
      ]
     },
     "execution_count": 4,
     "metadata": {},
     "output_type": "execute_result"
    }
   ],
   "source": [
    "# Turn data into a DataFrame\n",
    "import pandas as pd\n",
    "\n",
    "df = pd.DataFrame({\n",
    "    \"X1\": X_numpy[:, 0],\n",
    "    \"X2\": X_numpy[:, 1],\n",
    "    \"label\": y_numpy\n",
    "})\n",
    "df.head()"
   ]
  },
  {
   "cell_type": "code",
   "execution_count": 5,
   "id": "fc9103be",
   "metadata": {},
   "outputs": [
    {
     "data": {
      "text/plain": [
       "label\n",
       "1    500\n",
       "0    500\n",
       "Name: count, dtype: int64"
      ]
     },
     "execution_count": 5,
     "metadata": {},
     "output_type": "execute_result"
    }
   ],
   "source": [
    "df.label.value_counts()"
   ]
  },
  {
   "cell_type": "code",
   "execution_count": 6,
   "id": "153a715d",
   "metadata": {},
   "outputs": [
    {
     "data": {
      "text/plain": [
       "<matplotlib.collections.PathCollection at 0x7fb61ec6f2b0>"
      ]
     },
     "execution_count": 6,
     "metadata": {},
     "output_type": "execute_result"
    },
    {
     "data": {
      "image/png": "[encoded data removed]",
      "text/plain": [
       "<Figure size 640x480 with 1 Axes>"
      ]
     },
     "metadata": {},
     "output_type": "display_data"
    }
   ],
   "source": [
    "import matplotlib.pyplot as plt\n",
    "\n",
    "plt.scatter(\n",
    "    x=X_numpy[:, 0],\n",
    "    y=X_numpy[:, 1],\n",
    "    c=y_numpy,\n",
    "    cmap=plt.cm.RdYlBu\n",
    ")"
   ]
  },
  {
   "cell_type": "code",
   "execution_count": 7,
   "id": "f12127f3",
   "metadata": {},
   "outputs": [
    {
     "data": {
      "text/plain": [
       "(tensor([[ 0.0087,  0.3682],\n",
       "         [ 0.9214, -0.4969],\n",
       "         [ 0.9402, -0.4982],\n",
       "         [ 0.4659, -0.3454],\n",
       "         [-0.8504,  0.5261]]),\n",
       " tensor([1., 1., 1., 1., 0.]))"
      ]
     },
     "execution_count": 7,
     "metadata": {},
     "output_type": "execute_result"
    }
   ],
   "source": [
    "# Turn data into tensors of dtype float\n",
    "X = torch.from_numpy(X_numpy).type(torch.float)\n",
    "y = torch.from_numpy(y_numpy).type(torch.float)\n",
    "\n",
    "X[:5], y[:5]"
   ]
  },
  {
   "cell_type": "code",
   "execution_count": 8,
   "id": "b0b95c27",
   "metadata": {},
   "outputs": [
    {
     "data": {
      "text/plain": [
       "(torch.Size([800, 2]),\n",
       " torch.Size([200, 2]),\n",
       " torch.Size([800]),\n",
       " torch.Size([200]))"
      ]
     },
     "execution_count": 8,
     "metadata": {},
     "output_type": "execute_result"
    }
   ],
   "source": [
    "# Split the data into train and test sets (80% train, 20% test)\n",
    "from sklearn.model_selection import train_test_split\n",
    "\n",
    "X_train, X_test, y_train, y_test = train_test_split(\n",
    "    X, y, test_size=0.2, random_state=RANDOM_SEED\n",
    ")\n",
    "X_train.shape, X_test.shape, y_train.shape, y_test.shape"
   ]
  },
  {
   "cell_type": "code",
   "execution_count": 9,
   "id": "b3fdc056",
   "metadata": {},
   "outputs": [],
   "source": [
    "NUM_FEATURES = 2\n",
    "NUM_CLASSES = 1"
   ]
  },
  {
   "cell_type": "markdown",
   "id": "8b8f27d4",
   "metadata": {},
   "source": [
    "### 2. Build a model by subclassing nn.Module that incorporates non-linear activation functions and is capable of fitting the data you created in 1.\n",
    "\n",
    "- Feel free to use any combination of PyTorch layers (linear and non-linear) you want."
   ]
  },
  {
   "cell_type": "code",
   "execution_count": 10,
   "id": "5b2efe45",
   "metadata": {},
   "outputs": [],
   "source": [
    "import torch \n",
    "from torch import nn\n",
    "\n",
    "class MoonModelV0(nn.Module):\n",
    "    def __init__(self, input_features, output_features, hidden_units=10):\n",
    "        super().__init__()\n",
    "        self.non_linear_layer = nn.Sequential(\n",
    "            nn.Linear(input_features, hidden_units),\n",
    "            nn.ReLU(),\n",
    "            nn.Linear(hidden_units, hidden_units),\n",
    "            nn.ReLU(),\n",
    "            nn.Linear(hidden_units, output_features)\n",
    "        )\n",
    "\n",
    "    def forward(self, x):\n",
    "        x = self.non_linear_layer(x)\n",
    "        return x\n"
   ]
  },
  {
   "cell_type": "code",
   "execution_count": 11,
   "id": "9ce726d1",
   "metadata": {},
   "outputs": [
    {
     "data": {
      "text/plain": [
       "(MoonModelV0(\n",
       "   (non_linear_layer): Sequential(\n",
       "     (0): Linear(in_features=2, out_features=10, bias=True)\n",
       "     (1): ReLU()\n",
       "     (2): Linear(in_features=10, out_features=10, bias=True)\n",
       "     (3): ReLU()\n",
       "     (4): Linear(in_features=10, out_features=1, bias=True)\n",
       "   )\n",
       " ),\n",
       " OrderedDict([('non_linear_layer.0.weight',\n",
       "               tensor([[ 0.5406,  0.5869],\n",
       "                       [-0.1657,  0.6496],\n",
       "                       [-0.1549,  0.1427],\n",
       "                       [-0.3443,  0.4153],\n",
       "                       [ 0.6233, -0.5188],\n",
       "                       [ 0.6146,  0.1323],\n",
       "                       [ 0.5224,  0.0958],\n",
       "                       [ 0.3410, -0.0998],\n",
       "                       [ 0.5451,  0.1045],\n",
       "                       [-0.3301,  0.1802]], device='cuda:0')),\n",
       "              ('non_linear_layer.0.bias',\n",
       "               tensor([-0.3258, -0.0829, -0.2872,  0.4691, -0.5582, -0.3260, -0.1997, -0.4252,\n",
       "                        0.0667, -0.6984], device='cuda:0')),\n",
       "              ('non_linear_layer.2.weight',\n",
       "               tensor([[ 0.2856, -0.2686,  0.2441,  0.0526, -0.1027,  0.1954,  0.0493,  0.2555,\n",
       "                         0.0346, -0.0997],\n",
       "                       [ 0.0850, -0.0858,  0.1331,  0.2823,  0.1828, -0.1382,  0.1825,  0.0566,\n",
       "                         0.1606, -0.1927],\n",
       "                       [-0.3130, -0.1222, -0.2426,  0.2595,  0.0911,  0.1310,  0.1000, -0.0055,\n",
       "                         0.2475, -0.2247],\n",
       "                       [ 0.0199, -0.2158,  0.0975, -0.1089,  0.0969, -0.0659,  0.2623, -0.1874,\n",
       "                        -0.1886, -0.1886],\n",
       "                       [ 0.2844,  0.1054,  0.3043, -0.2610, -0.3137, -0.2474, -0.2127,  0.1281,\n",
       "                         0.1132,  0.2628],\n",
       "                       [-0.1633, -0.2156,  0.1678, -0.1278,  0.1919, -0.0750,  0.1809, -0.2457,\n",
       "                        -0.1596,  0.0964],\n",
       "                       [ 0.0669, -0.0806,  0.1885,  0.2150, -0.2293, -0.1688,  0.2896, -0.1067,\n",
       "                        -0.1121, -0.3060],\n",
       "                       [-0.1811,  0.0790, -0.0417, -0.2295,  0.0074, -0.2160, -0.2683, -0.1741,\n",
       "                        -0.2768, -0.2014],\n",
       "                       [ 0.3161,  0.0597,  0.0974, -0.2949, -0.2077, -0.1053,  0.0494, -0.2783,\n",
       "                        -0.1363, -0.1893],\n",
       "                       [ 0.0009, -0.1177, -0.0219, -0.2143, -0.2171, -0.1845, -0.1082, -0.2496,\n",
       "                         0.2651, -0.0628]], device='cuda:0')),\n",
       "              ('non_linear_layer.2.bias',\n",
       "               tensor([ 0.2721,  0.0985, -0.2678,  0.2188, -0.0870, -0.1212, -0.2625, -0.3144,\n",
       "                        0.0905, -0.0691], device='cuda:0')),\n",
       "              ('non_linear_layer.4.weight',\n",
       "               tensor([[ 0.1231, -0.2595,  0.2348, -0.2321, -0.0546,  0.0661,  0.1633,  0.2553,\n",
       "                         0.2881, -0.2507]], device='cuda:0')),\n",
       "              ('non_linear_layer.4.bias', tensor([0.0796], device='cuda:0'))]))"
      ]
     },
     "execution_count": 11,
     "metadata": {},
     "output_type": "execute_result"
    }
   ],
   "source": [
    "# Instantiate the model\n",
    "model_0 = MoonModelV0(\n",
    "    NUM_FEATURES,\n",
    "    NUM_CLASSES\n",
    ").to(device)\n",
    "model_0, model_0.state_dict()"
   ]
  },
  {
   "cell_type": "markdown",
   "id": "503642d5",
   "metadata": {},
   "source": [
    "### 3. Setup a binary classification compatible loss function and optimizer to use when training the model built in 2."
   ]
  },
  {
   "cell_type": "code",
   "execution_count": 12,
   "id": "cb251e8f",
   "metadata": {},
   "outputs": [],
   "source": [
    "# Setup loss function\n",
    "loss_fn = nn.BCEWithLogitsLoss()\n",
    "# Setup optimizer to optimize model's parameters\n",
    "optimizer = torch.optim.SGD(model_0.parameters(), lr=0.1)"
   ]
  },
  {
   "cell_type": "markdown",
   "id": "a1c4a248",
   "metadata": {},
   "source": [
    "#### 4. Create a training and testing loop to fit the model you created in 2 to the data you created in 1.\n",
    "\n",
    "- Do a forward pass of the model to see what's coming out in the form of logits, prediction probabilities and labels.\n",
    "- To measure model accuray, you can create your own accuracy function or use the accuracy function in TorchMetrics.\n",
    "- Train the model for long enough for it to reach over 96% accuracy.\n",
    "- The training loop should output progress every 10 epochs of the model's training and test set loss and accuracy."
   ]
  },
  {
   "cell_type": "code",
   "execution_count": 13,
   "id": "bce7d37a",
   "metadata": {},
   "outputs": [
    {
     "name": "stdout",
     "output_type": "stream",
     "text": [
      "Logits:tensor([[0.0014],\n",
      "        [0.0101],\n",
      "        [0.0185],\n",
      "        [0.0182],\n",
      "        [0.0289]], device='cuda:0', grad_fn=<SliceBackward0>)\n",
      "Pred probs:tensor([[0.5003],\n",
      "        [0.5025],\n",
      "        [0.5046],\n",
      "        [0.5046],\n",
      "        [0.5072]], device='cuda:0', grad_fn=<SigmoidBackward0>)\n",
      "Pred labels:tensor([[1.],\n",
      "        [1.],\n",
      "        [1.],\n",
      "        [1.],\n",
      "        [1.]], device='cuda:0', grad_fn=<RoundBackward0>)\n",
      "True Labels:tensor([1., 0., 0., 0., 1., 0.])\n"
     ]
    }
   ],
   "source": [
    "# What's coming out of our model?\n",
    "logits =model_0(X_train.to(device))[:5]\n",
    "# logits (raw outputs of model)\n",
    "print(f\"Logits:{logits}\")\n",
    "## Your code here ##\n",
    "pred_probs = torch.sigmoid(logits)\n",
    "# Prediction probabilities\n",
    "print(f\"Pred probs:{pred_probs}\")\n",
    "## Your code here ##\n",
    "pred_labels = torch.round(pred_probs)\n",
    "# Prediction labels\n",
    "print(f\"Pred labels:{pred_labels}\")\n",
    "\n",
    "true_labels = y_train[:6]\n",
    "print(f\"True Labels:{true_labels}\")"
   ]
  },
  {
   "cell_type": "code",
   "execution_count": 14,
   "id": "54b0fcf7",
   "metadata": {},
   "outputs": [
    {
     "name": "stderr",
     "output_type": "stream",
     "text": [
      "/home/ssliang/miniconda3/envs/pytorh_ssliang/lib/python3.9/site-packages/tqdm/auto.py:21: TqdmWarning: IProgress not found. Please update jupyter and ipywidgets. See https://ipywidgets.readthedocs.io/en/stable/user_install.html\n",
      "  from .autonotebook import tqdm as notebook_tqdm\n"
     ]
    },
    {
     "data": {
      "text/plain": [
       "MulticlassAccuracy()"
      ]
     },
     "execution_count": 14,
     "metadata": {},
     "output_type": "execute_result"
    }
   ],
   "source": [
    "# Let's calculuate the accuracy using accuracy from TorchMetrics\n",
    "# %pip -q install torchmetrics # Colab doesn't come with torchmetrics\n",
    "from torchmetrics import Accuracy\n",
    "\n",
    "## TODO: Uncomment this code to use the Accuracy function\n",
    "acc_fn = Accuracy(task=\"multiclass\", num_classes=2).to(device) # send accuracy function to device\n",
    "acc_fn"
   ]
  },
  {
   "cell_type": "code",
   "execution_count": 15,
   "id": "6743ac0e",
   "metadata": {},
   "outputs": [
    {
     "name": "stdout",
     "output_type": "stream",
     "text": [
      "Epoch: 0 | Train Loss: 0.69536 | Train Acc: 0.37 | Test Loss: 0.69462 | Test Acc: 0.50\n",
      "Epoch: 100 | Train Loss: 0.38584 | Train Acc: 0.82 | Test Loss: 0.40274 | Test Acc: 0.76\n",
      "Epoch: 200 | Train Loss: 0.23521 | Train Acc: 0.89 | Test Loss: 0.23915 | Test Acc: 0.91\n",
      "Epoch: 300 | Train Loss: 0.18844 | Train Acc: 0.92 | Test Loss: 0.18707 | Test Acc: 0.93\n",
      "Epoch: 400 | Train Loss: 0.14797 | Train Acc: 0.94 | Test Loss: 0.14573 | Test Acc: 0.94\n",
      "Epoch: 500 | Train Loss: 0.10225 | Train Acc: 0.96 | Test Loss: 0.09955 | Test Acc: 0.98\n",
      "Epoch: 600 | Train Loss: 0.06423 | Train Acc: 0.99 | Test Loss: 0.06165 | Test Acc: 0.99\n",
      "Epoch: 700 | Train Loss: 0.04051 | Train Acc: 1.00 | Test Loss: 0.03834 | Test Acc: 1.00\n",
      "Epoch: 800 | Train Loss: 0.02720 | Train Acc: 1.00 | Test Loss: 0.02539 | Test Acc: 1.00\n",
      "Epoch: 900 | Train Loss: 0.01952 | Train Acc: 1.00 | Test Loss: 0.01800 | Test Acc: 1.00\n",
      "Epoch: 1000 | Train Loss: 0.01478 | Train Acc: 1.00 | Test Loss: 0.01350 | Test Acc: 1.00\n",
      "Epoch: 1100 | Train Loss: 0.01168 | Train Acc: 1.00 | Test Loss: 0.01059 | Test Acc: 1.00\n",
      "Epoch: 1200 | Train Loss: 0.00953 | Train Acc: 1.00 | Test Loss: 0.00858 | Test Acc: 1.00\n",
      "Epoch: 1300 | Train Loss: 0.00798 | Train Acc: 1.00 | Test Loss: 0.00714 | Test Acc: 1.00\n",
      "Epoch: 1400 | Train Loss: 0.00681 | Train Acc: 1.00 | Test Loss: 0.00607 | Test Acc: 1.00\n",
      "Epoch: 1500 | Train Loss: 0.00591 | Train Acc: 1.00 | Test Loss: 0.00525 | Test Acc: 1.00\n",
      "Epoch: 1600 | Train Loss: 0.00520 | Train Acc: 1.00 | Test Loss: 0.00460 | Test Acc: 1.00\n",
      "Epoch: 1700 | Train Loss: 0.00463 | Train Acc: 1.00 | Test Loss: 0.00408 | Test Acc: 1.00\n",
      "Epoch: 1800 | Train Loss: 0.00416 | Train Acc: 1.00 | Test Loss: 0.00366 | Test Acc: 1.00\n",
      "Epoch: 1900 | Train Loss: 0.00377 | Train Acc: 1.00 | Test Loss: 0.00331 | Test Acc: 1.00\n"
     ]
    }
   ],
   "source": [
    "## TODO: Uncomment this to set the seed\n",
    "torch.manual_seed(RANDOM_SEED)\n",
    "\n",
    "# Setup epochs\n",
    "epochs = 2000\n",
    "\n",
    "# Send data to the device\n",
    "X_train ,y_train = X_train.to(device), y_train.to(device)\n",
    "X_test ,y_test = X_test.to(device), y_test.to(device)\n",
    "\n",
    "# Loop through the data\n",
    "for epoch in range(epochs):\n",
    "    ### Training\n",
    "    model_0.train() # set model train\n",
    "\n",
    "    # 1. Forward pass (logits output)\n",
    "    y_logits = model_0(X_train).squeeze()\n",
    "\n",
    "    # Turn logits into prediction probabilities\n",
    "    y_pred_probs = torch.sigmoid(y_logits)\n",
    "\n",
    "    # Turn prediction probabilities into prediction labels\n",
    "    y_pred_labels = torch.round(y_pred_probs)\n",
    "\n",
    "    # 2. Calculaute the loss\n",
    "    loss = loss_fn(y_logits, y_train) # loss = compare model raw outputs to desired model outputs\n",
    "\n",
    "    # Calculate the accuracy\n",
    "    acc = acc_fn(y_pred_labels, y_train) # the accuracy function needs to compare pred labels (not logits) with actual labels\n",
    "\n",
    "    # 3. Zero the gradients\n",
    "    optimizer.zero_grad()\n",
    "\n",
    "    # 4. Loss backward (perform backpropagation) - https://brilliant.org/wiki/backpropagation/#:~:text=Backpropagation%2C%20short%20for%20%22backward%20propagation,to%20the%20neural%20network's%20weights.\n",
    "    loss.backward()\n",
    "\n",
    "    # 5. Step the optimizer (gradient descent) - https://towardsdatascience.com/gradient-descent-algorithm-a-deep-dive-cf04e8115f21#:~:text=Gradient%20descent%20(GD)%20is%20an,e.g.%20in%20a%20linear%20regression)\n",
    "    optimizer.step()\n",
    "\n",
    "    ### Testing\n",
    "    model_0.eval() \n",
    "    with torch.inference_mode():\n",
    "        # 1. Forward pass (to get the logits)\n",
    "        y_test_logits = model_0(X_test).squeeze()\n",
    "        # Turn the test logits into prediction labels\n",
    "        y_test_pred = torch.round(torch.sigmoid(y_test_logits))\n",
    "\n",
    "        # 2. Caculate the test loss/acc\n",
    "        test_loss = loss_fn(y_test_logits, y_test)\n",
    "        test_acc = acc_fn(y_test_pred, y_test)\n",
    "\n",
    "    # Print out what's happening every 100 epochs\n",
    "    if epoch % 100 == 0:\n",
    "        print(f\"Epoch: {epoch} | Train Loss: {loss.item():.5f} | Train Acc: {acc:.2f} | Test Loss: {test_loss.item():.5f} | Test Acc: {test_acc:.2f}\")"
   ]
  },
  {
   "cell_type": "markdown",
   "id": "e7d52a09",
   "metadata": {},
   "source": [
    "### 5. Make predictions with your trained model and plot them using the plot_decision_boundary() function created in this notebook.\n"
   ]
  },
  {
   "cell_type": "code",
   "execution_count": 16,
   "id": "a3cac3a1",
   "metadata": {},
   "outputs": [],
   "source": [
    "# Plot the model predictions\n",
    "import numpy as np\n",
    "\n",
    "def plot_decision_boundary(model, X, y):\n",
    "    \n",
    "    # Put everything to CPU (works better with NumPy + Matplotlib)\n",
    "    model.to(\"cpu\")\n",
    "    X, y = X.to(\"cpu\"), y.to(\"cpu\")\n",
    "\n",
    "    # Source - https://madewithml.com/courses/foundations/neural-networks/ \n",
    "    # (with modifications)\n",
    "    x_min, x_max = X[:, 0].min() - 0.1, X[:, 0].max() + 0.1\n",
    "    y_min, y_max = X[:, 1].min() - 0.1, X[:, 1].max() + 0.1\n",
    "    xx, yy = np.meshgrid(np.linspace(x_min, x_max, 101), \n",
    "                         np.linspace(y_min, y_max, 101))\n",
    "\n",
    "    # Make features\n",
    "    X_to_pred_on = torch.from_numpy(np.column_stack((xx.ravel(), yy.ravel()))).float()\n",
    "\n",
    "    # Make predictions\n",
    "    model.eval()\n",
    "    with torch.inference_mode():\n",
    "        y_logits = model(X_to_pred_on)\n",
    "\n",
    "    # Test for multi-class or binary and adjust logits to prediction labels\n",
    "    if len(torch.unique(y)) > 2:\n",
    "        y_pred = torch.softmax(y_logits, dim=1).argmax(dim=1) # mutli-class\n",
    "    else: \n",
    "        y_pred = torch.round(torch.sigmoid(y_logits)) # binary\n",
    "    \n",
    "    # Reshape preds and plot\n",
    "    y_pred = y_pred.reshape(xx.shape).detach().numpy()\n",
    "    plt.contourf(xx, yy, y_pred, cmap=plt.cm.RdYlBu, alpha=0.7)\n",
    "    plt.scatter(X[:, 0], X[:, 1], c=y, s=40, cmap=plt.cm.RdYlBu)\n",
    "    plt.xlim(xx.min(), xx.max())\n",
    "    plt.ylim(yy.min(), yy.max())\n",
    "\n"
   ]
  },
  {
   "cell_type": "code",
   "execution_count": 17,
   "id": "d1b2c6cd",
   "metadata": {},
   "outputs": [
    {
     "data": {
      "image/png": "[encoded data removed]",
      "text/plain": [
       "<Figure size 640x480 with 1 Axes>"
      ]
     },
     "metadata": {},
     "output_type": "display_data"
    }
   ],
   "source": [
    "# Plot decision boundaries for training sets\n",
    "plot_decision_boundary(model_0, X_train, y_train)"
   ]
  },
  {
   "cell_type": "code",
   "execution_count": 18,
   "id": "a88c9f87",
   "metadata": {},
   "outputs": [
    {
     "data": {
      "image/png": "[encoded data removed]",
      "text/plain": [
       "<Figure size 640x480 with 1 Axes>"
      ]
     },
     "metadata": {},
     "output_type": "display_data"
    }
   ],
   "source": [
    "# Plot decision boundaries for test sets\n",
    "plot_decision_boundary(model_0, X_test, y_test)"
   ]
  }
 ],
 "metadata": {
  "kernelspec": {
   "display_name": "pytorh_ssliang",
   "language": "python",
   "name": "python3"
  },
  "language_info": {
   "codemirror_mode": {
    "name": "ipython",
    "version": 3
   },
   "file_extension": ".py",
   "mimetype": "text/x-python",
   "name": "python",
   "nbconvert_exporter": "python",
   "pygments_lexer": "ipython3",
   "version": "3.9.23"
  }
 },
 "nbformat": 4,
 "nbformat_minor": 5
}
