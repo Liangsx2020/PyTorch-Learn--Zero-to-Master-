{
  "cells": [
    {
      "cell_type": "markdown",
      "metadata": {
        "colab_type": "text",
        "id": "view-in-github"
      },
      "source": [
        "<a href=\"https://colab.research.google.com/github/mrdbourke/pytorch-deep-learning/blob/main/extras/exercises/03_pytorch_computer_vision_exercises.ipynb\" target=\"_parent\"><img src=\"https://colab.research.google.com/assets/colab-badge.svg\" alt=\"Open In Colab\"/></a>"
      ]
    },
    {
      "cell_type": "markdown",
      "metadata": {
        "id": "Vex99np2wFVt"
      },
      "source": [
        "# 03. PyTorch Computer Vision Exercises\n",
        "\n",
        "The following is a collection of exercises based on computer vision fundamentals in PyTorch.\n",
        "\n",
        "They're a bunch of fun.\n",
        "\n",
        "You're going to get to write plenty of code!\n",
        "\n",
        "## Resources\n",
        "\n",
        "1. These exercises are based on [notebook 03 of the Learn PyTorch for Deep Learning course](https://www.learnpytorch.io/03_pytorch_computer_vision/). \n",
        "2. See a live [walkthrough of the solutions (errors and all) on YouTube](https://youtu.be/_PibmqpEyhA). \n",
        "  * **Note:** Going through these exercises took me just over 3 hours of solid coding, so you should expect around the same.\n",
        "3. See [other solutions on the course GitHub](https://github.com/mrdbourke/pytorch-deep-learning/tree/main/extras/solutions)."
      ]
    },
    {
      "cell_type": "code",
      "execution_count": 1,
      "metadata": {
        "colab": {
          "base_uri": "https://localhost:8080/"
        },
        "id": "GaeYzOTLwWh2",
        "outputId": "17dd5453-9639-4b01-aa18-7ddbfd5c3253"
      },
      "outputs": [
        {
          "name": "stdout",
          "output_type": "stream",
          "text": [
            "Fri Aug 22 23:21:47 2025       \n",
            "+-----------------------------------------------------------------------------+\n",
            "| NVIDIA-SMI 520.61.05    Driver Version: 520.61.05    CUDA Version: 11.8     |\n",
            "|-------------------------------+----------------------+----------------------+\n",
            "| GPU  Name        Persistence-M| Bus-Id        Disp.A | Volatile Uncorr. ECC |\n",
            "| Fan  Temp  Perf  Pwr:Usage/Cap|         Memory-Usage | GPU-Util  Compute M. |\n",
            "|                               |                      |               MIG M. |\n",
            "|===============================+======================+======================|\n",
            "|   0  NVIDIA GeForce ...  On   | 00000000:18:00.0 Off |                  N/A |\n",
            "| 35%   23C    P8    23W / 350W |      5MiB / 24576MiB |      0%      Default |\n",
            "|                               |                      |                  N/A |\n",
            "+-------------------------------+----------------------+----------------------+\n",
            "|   1  NVIDIA GeForce ...  On   | 00000000:3B:00.0 Off |                  N/A |\n",
            "| 33%   23C    P8    31W / 350W |      5MiB / 24576MiB |      0%      Default |\n",
            "|                               |                      |                  N/A |\n",
            "+-------------------------------+----------------------+----------------------+\n",
            "|   2  NVIDIA GeForce ...  On   | 00000000:86:00.0 Off |                  N/A |\n",
            "| 37%   24C    P8    25W / 350W |      5MiB / 24576MiB |      0%      Default |\n",
            "|                               |                      |                  N/A |\n",
            "+-------------------------------+----------------------+----------------------+\n",
            "                                                                               \n",
            "+-----------------------------------------------------------------------------+\n",
            "| Processes:                                                                  |\n",
            "|  GPU   GI   CI        PID   Type   Process name                  GPU Memory |\n",
            "|        ID   ID                                                   Usage      |\n",
            "|=============================================================================|\n",
            "|    0   N/A  N/A      2415      G   /usr/lib/xorg/Xorg                  4MiB |\n",
            "|    1   N/A  N/A      2415      G   /usr/lib/xorg/Xorg                  4MiB |\n",
            "|    2   N/A  N/A      2415      G   /usr/lib/xorg/Xorg                  4MiB |\n",
            "+-----------------------------------------------------------------------------+\n"
          ]
        }
      ],
      "source": [
        "# Check for GPU\n",
        "!nvidia-smi"
      ]
    },
    {
      "cell_type": "code",
      "execution_count": 2,
      "metadata": {
        "colab": {
          "base_uri": "https://localhost:8080/",
          "height": 53
        },
        "id": "DNwZLMbCzJLk",
        "outputId": "9c150c50-a092-4f34-9d33-b45247fb080d"
      },
      "outputs": [
        {
          "name": "stdout",
          "output_type": "stream",
          "text": [
            "2.3.1+cu118\n"
          ]
        },
        {
          "data": {
            "text/plain": [
              "'cuda'"
            ]
          },
          "execution_count": 2,
          "metadata": {},
          "output_type": "execute_result"
        }
      ],
      "source": [
        "# Import torch\n",
        "import torch\n",
        "\n",
        "# Exercises require PyTorch > 1.10.0\n",
        "print(torch.__version__)\n",
        "\n",
        "# TODO: Setup device agnostic code\n",
        "device = \"cuda\" if torch.cuda.is_available() else \"cpu\"\n",
        "device"
      ]
    },
    {
      "cell_type": "markdown",
      "metadata": {
        "id": "FSFX7tc1w-en"
      },
      "source": [
        "## 1. What are 3 areas in industry where computer vision is currently being used?"
      ]
    },
    {
      "cell_type": "markdown",
      "metadata": {},
      "source": [
        "1. Self-driving cars, such as Tesla using computer vision to precieve what's happening on the road. \n",
        "1. Healthcare imaging, such as using computer vision to help interpret X_rays. Google also uses computer vision for detecting polyps in the intenstines\n",
        "1. Security, computer vision can be used to detect whether someone is invading your home or not"
      ]
    },
    {
      "cell_type": "markdown",
      "metadata": {
        "id": "oBK-WI6YxDYa"
      },
      "source": [
        "## 2. Search \"what is overfitting in machine learning\" and write down a sentence about what you find. "
      ]
    },
    {
      "cell_type": "markdown",
      "metadata": {},
      "source": [
        "Overfitting is like memorizing for a test but then you can't answer a question that;s slightly different.\n",
        "\n",
        "In other words, if a model is overfitting, it's learning the training data *too well* and these patterns don't generalize to unseen data"
      ]
    },
    {
      "cell_type": "markdown",
      "metadata": {
        "id": "XeYFEqw8xK26"
      },
      "source": [
        "## 3. Search \"ways to prevent overfitting in machine learning\", write down 3 of the things you find and a sentence about each. \n",
        "> **Note:** there are lots of these, so don't worry too much about all of them, just pick 3 and start with those."
      ]
    },
    {
      "cell_type": "markdown",
      "metadata": {},
      "source": [
        "1. **Regularizaion techniques**\n",
        "1. **Use different model**\n",
        "1. **Reduce noise in data/cleanup dataset/introduce data augmentation techniques**"
      ]
    },
    {
      "cell_type": "markdown",
      "metadata": {
        "id": "DKdEEFEqxM-8"
      },
      "source": [
        "## 4. Spend 20-minutes reading and clicking through the [CNN Explainer website](https://poloclub.github.io/cnn-explainer/).\n",
        "\n",
        "* Upload your own example image using the \"upload\" button on the website and see what happens in each layer of a CNN as your image passes through it."
      ]
    },
    {
      "cell_type": "code",
      "execution_count": null,
      "metadata": {
        "id": "TqZaJIRMbFtS"
      },
      "outputs": [],
      "source": []
    },
    {
      "cell_type": "markdown",
      "metadata": {
        "id": "lvf-3pODxXYI"
      },
      "source": [
        "## 5. Load the [`torchvision.datasets.MNIST()`](https://pytorch.org/vision/stable/generated/torchvision.datasets.MNIST.html#torchvision.datasets.MNIST) train and test datasets."
      ]
    },
    {
      "cell_type": "code",
      "execution_count": 3,
      "metadata": {
        "id": "SHjeuN81bHza"
      },
      "outputs": [],
      "source": [
        "import torchvision\n",
        "from torchvision import datasets\n",
        "from torchvision import transforms\n",
        "\n",
        "train_data = datasets.MNIST(root=\"./data\",\n",
        "                            train=True,\n",
        "                            download=True,\n",
        "                            transform=transforms.ToTensor())\n",
        "\n",
        "test_data = datasets.MNIST(root=\"./data\",\n",
        "                           train=False,\n",
        "                           download=True,\n",
        "                           transform=transforms.ToTensor())"
      ]
    },
    {
      "cell_type": "code",
      "execution_count": 4,
      "metadata": {},
      "outputs": [
        {
          "data": {
            "text/plain": [
              "(Dataset MNIST\n",
              "     Number of datapoints: 60000\n",
              "     Root location: ./data\n",
              "     Split: Train\n",
              "     StandardTransform\n",
              " Transform: ToTensor(),\n",
              " Dataset MNIST\n",
              "     Number of datapoints: 10000\n",
              "     Root location: ./data\n",
              "     Split: Test\n",
              "     StandardTransform\n",
              " Transform: ToTensor())"
            ]
          },
          "execution_count": 4,
          "metadata": {},
          "output_type": "execute_result"
        }
      ],
      "source": [
        "train_data, test_data"
      ]
    },
    {
      "cell_type": "code",
      "execution_count": 5,
      "metadata": {},
      "outputs": [
        {
          "data": {
            "text/plain": [
              "(60000, 10000)"
            ]
          },
          "execution_count": 5,
          "metadata": {},
          "output_type": "execute_result"
        }
      ],
      "source": [
        "len(train_data), len(test_data)"
      ]
    },
    {
      "cell_type": "code",
      "execution_count": 6,
      "metadata": {},
      "outputs": [
        {
          "name": "stdout",
          "output_type": "stream",
          "text": [
            "Image shape: torch.Size([1, 28, 28]) -> [color_channels, height, width](CHW)\n",
            "Label: 5 -> no shape, due to being integer\n"
          ]
        }
      ],
      "source": [
        "img = train_data[0][0]\n",
        "label = train_data[0][1]\n",
        "# Check out the shapes of our data\n",
        "print(f\"Image shape: {img.shape} -> [color_channels, height, width](CHW)\")\n",
        "print(f\"Label: {label} -> no shape, due to being integer\")"
      ]
    },
    {
      "cell_type": "markdown",
      "metadata": {
        "id": "qxZW-uAbxe_F"
      },
      "source": [
        "## 6. Visualize at least 5 different samples of the MNIST training dataset."
      ]
    },
    {
      "cell_type": "code",
      "execution_count": 7,
      "metadata": {
        "id": "QVFsYi1PbItE"
      },
      "outputs": [
        {
          "name": "stdout",
          "output_type": "stream",
          "text": [
            "torch.Size([1, 28, 28])\n",
            "torch.Size([28, 28])\n",
            "torch.Size([1, 28, 28])\n",
            "torch.Size([28, 28])\n",
            "torch.Size([1, 28, 28])\n",
            "torch.Size([28, 28])\n",
            "torch.Size([1, 28, 28])\n",
            "torch.Size([28, 28])\n",
            "torch.Size([1, 28, 28])\n",
            "torch.Size([28, 28])\n"
          ]
        },
        {
          "data": {
            "image/png": "[encoded data removed]",
            "text/plain": [
              "<Figure size 300x300 with 1 Axes>"
            ]
          },
          "metadata": {},
          "output_type": "display_data"
        },
        {
          "data": {
            "image/png": "[encoded data removed]",
            "text/plain": [
              "<Figure size 300x300 with 1 Axes>"
            ]
          },
          "metadata": {},
          "output_type": "display_data"
        },
        {
          "data": {
            "image/png": "[encoded data removed]",
            "text/plain": [
              "<Figure size 300x300 with 1 Axes>"
            ]
          },
          "metadata": {},
          "output_type": "display_data"
        },
        {
          "data": {
            "image/png": "[encoded data removed]",
            "text/plain": [
              "<Figure size 300x300 with 1 Axes>"
            ]
          },
          "metadata": {},
          "output_type": "display_data"
        },
        {
          "data": {
            "image/png": "[encoded data removed]",
            "text/plain": [
              "<Figure size 300x300 with 1 Axes>"
            ]
          },
          "metadata": {},
          "output_type": "display_data"
        }
      ],
      "source": [
        "import matplotlib.pyplot as plt\n",
        "for i in range(5):\n",
        "    img = train_data[i][0]\n",
        "    print(img.shape)\n",
        "    img_squeeze = img.squeeze()\n",
        "    print(img_squeeze.shape)\n",
        "    label = train_data[i][1]\n",
        "    plt.figure(figsize=(3,3))\n",
        "    plt.imshow(img_squeeze, cmap=\"gray\")\n",
        "    plt.title(label)\n",
        "    plt.axis(False)"
      ]
    },
    {
      "cell_type": "markdown",
      "metadata": {
        "id": "JAPDzW0wxhi3"
      },
      "source": [
        "## 7. Turn the MNIST train and test datasets into dataloaders using `torch.utils.data.DataLoader`, set the `batch_size=32`."
      ]
    },
    {
      "cell_type": "code",
      "execution_count": 8,
      "metadata": {
        "id": "ALA6MPcFbJXQ"
      },
      "outputs": [
        {
          "data": {
            "text/plain": [
              "(<torch.utils.data.dataloader.DataLoader at 0x7f7e150c6fa0>,\n",
              " <torch.utils.data.dataloader.DataLoader at 0x7f7de9103c40>)"
            ]
          },
          "execution_count": 8,
          "metadata": {},
          "output_type": "execute_result"
        }
      ],
      "source": [
        "from torch.utils.data import DataLoader\n",
        "\n",
        "train_dataloader = DataLoader(dataset=train_data,\n",
        "                              batch_size=32,\n",
        "                              shuffle=True)\n",
        "\n",
        "test_dataloader = DataLoader(dataset=test_data,\n",
        "                              batch_size=32,\n",
        "                              shuffle=False)\n",
        "\n",
        "train_dataloader, test_dataloader"
      ]
    },
    {
      "cell_type": "code",
      "execution_count": 9,
      "metadata": {},
      "outputs": [
        {
          "name": "stdout",
          "output_type": "stream",
          "text": [
            "torch.Size([32, 1, 28, 28])\n",
            "torch.Size([32])\n"
          ]
        }
      ],
      "source": [
        "for sample in next(iter(train_dataloader)):\n",
        "    print(sample.shape)"
      ]
    },
    {
      "cell_type": "code",
      "execution_count": 10,
      "metadata": {},
      "outputs": [
        {
          "data": {
            "text/plain": [
              "(1875, 313)"
            ]
          },
          "execution_count": 10,
          "metadata": {},
          "output_type": "execute_result"
        }
      ],
      "source": [
        "len(train_dataloader), len(test_dataloader)"
      ]
    },
    {
      "cell_type": "markdown",
      "metadata": {
        "id": "bCCVfXk5xjYS"
      },
      "source": [
        "## 8. Recreate `model_2` used in notebook 03 (the same model from the [CNN Explainer website](https://poloclub.github.io/cnn-explainer/), also known as TinyVGG) capable of fitting on the MNIST dataset."
      ]
    },
    {
      "cell_type": "code",
      "execution_count": 11,
      "metadata": {
        "id": "5IKNF22XbKYS"
      },
      "outputs": [],
      "source": [
        "from torch import nn\n",
        "class MNIST_model(nn.Module):\n",
        "    \n",
        "    def __init__(self, input_shape, hidden_unit, output_shape):\n",
        "        super().__init__()\n",
        "        self.conv_block_1 = nn.Sequential(\n",
        "            nn.Conv2d(in_channels=input_shape,\n",
        "                      out_channels=hidden_unit,\n",
        "                      kernel_size=3,\n",
        "                      stride=1,\n",
        "                      padding=1),\n",
        "            nn.ReLU(),\n",
        "            nn.Conv2d(in_channels=hidden_unit,\n",
        "                      out_channels=hidden_unit,\n",
        "                      kernel_size=3,\n",
        "                      stride=1,\n",
        "                      padding=1),\n",
        "            nn.ReLU(),\n",
        "            nn.MaxPool2d(kernel_size=2)\n",
        "        )\n",
        "        self.conv_block_2 = nn.Sequential(\n",
        "            nn.Conv2d(in_channels=hidden_unit,\n",
        "                      out_channels=hidden_unit,\n",
        "                      kernel_size=3,\n",
        "                      stride=1,\n",
        "                      padding=1),\n",
        "            nn.ReLU(),\n",
        "            nn.Conv2d(in_channels=hidden_unit,\n",
        "                      out_channels=hidden_unit,\n",
        "                      kernel_size=3,\n",
        "                      stride=1,\n",
        "                      padding=1),\n",
        "            nn.MaxPool2d(kernel_size=2)\n",
        "        )\n",
        "        self.classifier = nn.Sequential(\n",
        "            nn.Flatten(),\n",
        "            nn.Linear(in_features=hidden_unit*7*7,\n",
        "                      out_features=output_shape)\n",
        "        )\n",
        "\n",
        "    def forward(self, x):\n",
        "        x = self.conv_block_1(x)\n",
        "        x = self.conv_block_2(x)\n",
        "        x = self.classifier(x)\n",
        "        return x"
      ]
    },
    {
      "cell_type": "code",
      "execution_count": 12,
      "metadata": {},
      "outputs": [
        {
          "data": {
            "text/plain": [
              "'cuda'"
            ]
          },
          "execution_count": 12,
          "metadata": {},
          "output_type": "execute_result"
        }
      ],
      "source": [
        "device"
      ]
    },
    {
      "cell_type": "code",
      "execution_count": 13,
      "metadata": {},
      "outputs": [
        {
          "data": {
            "text/plain": [
              "MNIST_model(\n",
              "  (conv_block_1): Sequential(\n",
              "    (0): Conv2d(1, 10, kernel_size=(3, 3), stride=(1, 1), padding=(1, 1))\n",
              "    (1): ReLU()\n",
              "    (2): Conv2d(10, 10, kernel_size=(3, 3), stride=(1, 1), padding=(1, 1))\n",
              "    (3): ReLU()\n",
              "    (4): MaxPool2d(kernel_size=2, stride=2, padding=0, dilation=1, ceil_mode=False)\n",
              "  )\n",
              "  (conv_block_2): Sequential(\n",
              "    (0): Conv2d(10, 10, kernel_size=(3, 3), stride=(1, 1), padding=(1, 1))\n",
              "    (1): ReLU()\n",
              "    (2): Conv2d(10, 10, kernel_size=(3, 3), stride=(1, 1), padding=(1, 1))\n",
              "    (3): MaxPool2d(kernel_size=2, stride=2, padding=0, dilation=1, ceil_mode=False)\n",
              "  )\n",
              "  (classifier): Sequential(\n",
              "    (0): Flatten(start_dim=1, end_dim=-1)\n",
              "    (1): Linear(in_features=490, out_features=10, bias=True)\n",
              "  )\n",
              ")"
            ]
          },
          "execution_count": 13,
          "metadata": {},
          "output_type": "execute_result"
        }
      ],
      "source": [
        "model = MNIST_model(input_shape=1,\n",
        "                    hidden_unit=10,\n",
        "                    output_shape=10).to(device)\n",
        "model"
      ]
    },
    {
      "cell_type": "code",
      "execution_count": 14,
      "metadata": {},
      "outputs": [
        {
          "data": {
            "text/plain": [
              "OrderedDict([('conv_block_1.0.weight',\n",
              "              tensor([[[[ 0.0694,  0.2619, -0.2017],\n",
              "                        [ 0.2422,  0.2751, -0.3330],\n",
              "                        [-0.0621, -0.2994,  0.2558]]],\n",
              "              \n",
              "              \n",
              "                      [[[-0.0506, -0.2054, -0.0827],\n",
              "                        [ 0.2942, -0.0955, -0.1011],\n",
              "                        [ 0.0295,  0.2601, -0.2040]]],\n",
              "              \n",
              "              \n",
              "                      [[[-0.0992,  0.1286,  0.1271],\n",
              "                        [-0.1579, -0.1429,  0.0693],\n",
              "                        [ 0.0723,  0.0853,  0.0364]]],\n",
              "              \n",
              "              \n",
              "                      [[[ 0.1136, -0.2236, -0.1617],\n",
              "                        [-0.1215,  0.0008,  0.1622],\n",
              "                        [-0.2737,  0.0459, -0.1391]]],\n",
              "              \n",
              "              \n",
              "                      [[[ 0.1721, -0.1059, -0.1126],\n",
              "                        [ 0.1639, -0.2864,  0.0472],\n",
              "                        [ 0.1794,  0.2861,  0.2792]]],\n",
              "              \n",
              "              \n",
              "                      [[[-0.0677,  0.1128, -0.0747],\n",
              "                        [ 0.2447,  0.1974, -0.2021],\n",
              "                        [-0.2022,  0.2335,  0.0046]]],\n",
              "              \n",
              "              \n",
              "                      [[[-0.2362,  0.2731, -0.0241],\n",
              "                        [ 0.1355,  0.0625, -0.0706],\n",
              "                        [ 0.1288, -0.2658,  0.2080]]],\n",
              "              \n",
              "              \n",
              "                      [[[ 0.2784, -0.1465, -0.1749],\n",
              "                        [-0.0532, -0.0599,  0.0149],\n",
              "                        [-0.0121, -0.3124, -0.3017]]],\n",
              "              \n",
              "              \n",
              "                      [[[ 0.0773, -0.2249,  0.2752],\n",
              "                        [ 0.1819,  0.1198,  0.0203],\n",
              "                        [ 0.0278, -0.1112,  0.2252]]],\n",
              "              \n",
              "              \n",
              "                      [[[-0.2434,  0.0955,  0.2423],\n",
              "                        [-0.1065,  0.1305,  0.1141],\n",
              "                        [-0.0769, -0.0242,  0.3237]]]], device='cuda:0')),\n",
              "             ('conv_block_1.0.bias',\n",
              "              tensor([ 0.2656, -0.2672,  0.1254,  0.2425, -0.0213,  0.0430,  0.2238,  0.1856,\n",
              "                      -0.2957, -0.3075], device='cuda:0')),\n",
              "             ('conv_block_1.2.weight',\n",
              "              tensor([[[[ 0.1022,  0.0018, -0.0442],\n",
              "                        [-0.0352,  0.0864, -0.0316],\n",
              "                        [-0.0328,  0.0708, -0.0473]],\n",
              "              \n",
              "                       [[ 0.0454, -0.0200, -0.0535],\n",
              "                        [ 0.0159, -0.0973,  0.0020],\n",
              "                        [ 0.0418, -0.1012, -0.0978]],\n",
              "              \n",
              "                       [[-0.0844, -0.0093, -0.0533],\n",
              "                        [-0.1034, -0.1041,  0.0646],\n",
              "                        [ 0.0794,  0.0506, -0.0051]],\n",
              "              \n",
              "                       [[ 0.0872, -0.0149, -0.0766],\n",
              "                        [ 0.0142,  0.0998,  0.0570],\n",
              "                        [-0.0891, -0.0627,  0.0236]],\n",
              "              \n",
              "                       [[-0.0344,  0.0569,  0.0705],\n",
              "                        [-0.0910, -0.0452,  0.1000],\n",
              "                        [-0.0584, -0.0255,  0.0337]],\n",
              "              \n",
              "                       [[-0.0468,  0.0544,  0.0455],\n",
              "                        [-0.0861, -0.0449, -0.0735],\n",
              "                        [-0.0542,  0.0266,  0.0987]],\n",
              "              \n",
              "                       [[-0.0265, -0.0753,  0.0540],\n",
              "                        [ 0.0642, -0.1014, -0.0106],\n",
              "                        [-0.0078,  0.0013,  0.0124]],\n",
              "              \n",
              "                       [[-0.0246, -0.0646,  0.0460],\n",
              "                        [ 0.0850, -0.0777, -0.0473],\n",
              "                        [-0.0438,  0.0864, -0.0986]],\n",
              "              \n",
              "                       [[ 0.0801, -0.1002,  0.0057],\n",
              "                        [ 0.0949, -0.0187, -0.0211],\n",
              "                        [ 0.0399,  0.0651,  0.0780]],\n",
              "              \n",
              "                       [[ 0.0185, -0.0312, -0.0426],\n",
              "                        [-0.0005, -0.0839, -0.0389],\n",
              "                        [ 0.0064, -0.0430, -0.0328]]],\n",
              "              \n",
              "              \n",
              "                      [[[ 0.0486,  0.0492,  0.0926],\n",
              "                        [ 0.0260,  0.0692, -0.0409],\n",
              "                        [-0.0421,  0.0594, -0.0169]],\n",
              "              \n",
              "                       [[ 0.0977, -0.0222, -0.0224],\n",
              "                        [ 0.0822,  0.0706, -0.0942],\n",
              "                        [ 0.0757,  0.0600, -0.0240]],\n",
              "              \n",
              "                       [[-0.0053,  0.0348,  0.0109],\n",
              "                        [-0.0200, -0.0741,  0.0313],\n",
              "                        [ 0.0901, -0.0824,  0.0744]],\n",
              "              \n",
              "                       [[-0.1043, -0.0126, -0.1043],\n",
              "                        [-0.0025, -0.0468, -0.0579],\n",
              "                        [ 0.0652, -0.0743, -0.0686]],\n",
              "              \n",
              "                       [[-0.0448, -0.0319,  0.1030],\n",
              "                        [-0.0019, -0.1037, -0.0745],\n",
              "                        [ 0.0163, -0.0504,  0.0137]],\n",
              "              \n",
              "                       [[-0.0724,  0.0706,  0.0990],\n",
              "                        [ 0.1049,  0.0822, -0.0532],\n",
              "                        [-0.0668,  0.0577, -0.0895]],\n",
              "              \n",
              "                       [[-0.0678, -0.0038, -0.0069],\n",
              "                        [ 0.0106, -0.0383, -0.0779],\n",
              "                        [-0.0843,  0.0080,  0.0723]],\n",
              "              \n",
              "                       [[ 0.0911, -0.0389, -0.0153],\n",
              "                        [-0.1014,  0.0314,  0.0300],\n",
              "                        [-0.0040,  0.0457,  0.0154]],\n",
              "              \n",
              "                       [[-0.0535, -0.0926, -0.0304],\n",
              "                        [ 0.0571,  0.0727, -0.1025],\n",
              "                        [-0.0359,  0.0417, -0.0540]],\n",
              "              \n",
              "                       [[-0.0610, -0.0248, -0.0047],\n",
              "                        [ 0.0692, -0.0935, -0.0591],\n",
              "                        [ 0.0743,  0.0717, -0.1021]]],\n",
              "              \n",
              "              \n",
              "                      [[[ 0.0170,  0.0573,  0.0616],\n",
              "                        [-0.0850,  0.0388,  0.0086],\n",
              "                        [-0.0410, -0.0678,  0.0071]],\n",
              "              \n",
              "                       [[ 0.1000,  0.0657,  0.0648],\n",
              "                        [-0.0394, -0.0003,  0.0566],\n",
              "                        [ 0.0657, -0.0937, -0.0204]],\n",
              "              \n",
              "                       [[ 0.0431, -0.0562, -0.0146],\n",
              "                        [ 0.0981,  0.0397,  0.0816],\n",
              "                        [ 0.1023,  0.0296,  0.0992]],\n",
              "              \n",
              "                       [[ 0.0367,  0.0432, -0.0182],\n",
              "                        [ 0.0850,  0.0211,  0.0006],\n",
              "                        [ 0.0142,  0.0372,  0.0876]],\n",
              "              \n",
              "                       [[ 0.0944,  0.1025, -0.0813],\n",
              "                        [ 0.0788,  0.0725, -0.0302],\n",
              "                        [-0.0437,  0.0080, -0.0109]],\n",
              "              \n",
              "                       [[-0.0054,  0.0112,  0.0749],\n",
              "                        [-0.0705,  0.0117, -0.0557],\n",
              "                        [ 0.0820, -0.0053, -0.0810]],\n",
              "              \n",
              "                       [[ 0.0843, -0.0108,  0.0046],\n",
              "                        [ 0.0533,  0.0793,  0.0221],\n",
              "                        [ 0.0280,  0.0535, -0.0138]],\n",
              "              \n",
              "                       [[ 0.0594, -0.0668,  0.0511],\n",
              "                        [-0.0110, -0.0091,  0.0070],\n",
              "                        [-0.0613, -0.0059, -0.0823]],\n",
              "              \n",
              "                       [[-0.0874,  0.0205,  0.0498],\n",
              "                        [ 0.1021, -0.0501, -0.0145],\n",
              "                        [-0.0787, -0.0611,  0.0245]],\n",
              "              \n",
              "                       [[-0.0541, -0.0319, -0.0565],\n",
              "                        [-0.0977,  0.0518,  0.0612],\n",
              "                        [ 0.0394, -0.0451, -0.0383]]],\n",
              "              \n",
              "              \n",
              "                      [[[-0.0651,  0.0912,  0.0453],\n",
              "                        [ 0.0141, -0.1000,  0.0377],\n",
              "                        [ 0.0660, -0.0547, -0.0643]],\n",
              "              \n",
              "                       [[-0.0254,  0.0250, -0.0914],\n",
              "                        [ 0.0267,  0.0576,  0.0105],\n",
              "                        [ 0.0894,  0.0749, -0.0807]],\n",
              "              \n",
              "                       [[ 0.0682,  0.0999, -0.0995],\n",
              "                        [ 0.0808, -0.0942,  0.0757],\n",
              "                        [-0.0898,  0.0673, -0.0856]],\n",
              "              \n",
              "                       [[-0.0889, -0.1032,  0.0599],\n",
              "                        [-0.0319, -0.0676, -0.0753],\n",
              "                        [ 0.0214, -0.1005,  0.1052]],\n",
              "              \n",
              "                       [[-0.0635,  0.0270,  0.0521],\n",
              "                        [ 0.0690,  0.1045,  0.0654],\n",
              "                        [-0.0100,  0.0600, -0.0676]],\n",
              "              \n",
              "                       [[ 0.0966, -0.0563,  0.0578],\n",
              "                        [ 0.0775,  0.0857, -0.0776],\n",
              "                        [-0.0614, -0.0188, -0.0185]],\n",
              "              \n",
              "                       [[ 0.0299,  0.0862, -0.0453],\n",
              "                        [ 0.0061, -0.1046, -0.0734],\n",
              "                        [ 0.0392,  0.0043,  0.0971]],\n",
              "              \n",
              "                       [[-0.0070, -0.0768, -0.0127],\n",
              "                        [ 0.0740,  0.0365,  0.0721],\n",
              "                        [-0.0850,  0.0175,  0.0830]],\n",
              "              \n",
              "                       [[-0.0146, -0.0476,  0.0744],\n",
              "                        [-0.0396, -0.0924,  0.0467],\n",
              "                        [-0.0234,  0.0408, -0.0762]],\n",
              "              \n",
              "                       [[-0.0980, -0.0653,  0.0708],\n",
              "                        [ 0.0080, -0.0704, -0.0417],\n",
              "                        [ 0.0048,  0.0347,  0.0720]]],\n",
              "              \n",
              "              \n",
              "                      [[[ 0.0098, -0.0753, -0.0885],\n",
              "                        [-0.0966, -0.0259,  0.0560],\n",
              "                        [-0.0035, -0.0212, -0.0309]],\n",
              "              \n",
              "                       [[ 0.0809, -0.0585, -0.0264],\n",
              "                        [-0.0312, -0.0797,  0.1018],\n",
              "                        [-0.0553, -0.0540, -0.0171]],\n",
              "              \n",
              "                       [[-0.0333, -0.0351, -0.0158],\n",
              "                        [ 0.0427,  0.0072,  0.0077],\n",
              "                        [-0.0361, -0.0321,  0.0534]],\n",
              "              \n",
              "                       [[ 0.0489, -0.0600, -0.0934],\n",
              "                        [ 0.0550,  0.0353,  0.0559],\n",
              "                        [ 0.0457, -0.0397, -0.0602]],\n",
              "              \n",
              "                       [[-0.0598, -0.0482,  0.0868],\n",
              "                        [ 0.0737, -0.0364, -0.0879],\n",
              "                        [ 0.0641,  0.1021,  0.0406]],\n",
              "              \n",
              "                       [[ 0.0431, -0.0291,  0.0566],\n",
              "                        [ 0.0395, -0.0842, -0.0124],\n",
              "                        [-0.0649,  0.0896, -0.0252]],\n",
              "              \n",
              "                       [[ 0.0848,  0.0611, -0.0266],\n",
              "                        [ 0.0692, -0.0777, -0.0893],\n",
              "                        [ 0.0673,  0.0920,  0.0304]],\n",
              "              \n",
              "                       [[ 0.0389, -0.0915, -0.0052],\n",
              "                        [ 0.0235,  0.0752,  0.0754],\n",
              "                        [ 0.0315, -0.0809, -0.0070]],\n",
              "              \n",
              "                       [[ 0.0824,  0.0416,  0.0538],\n",
              "                        [-0.0119, -0.1005, -0.0453],\n",
              "                        [ 0.0970,  0.0865,  0.0165]],\n",
              "              \n",
              "                       [[-0.1029, -0.0210,  0.0900],\n",
              "                        [-0.0689, -0.0096, -0.0062],\n",
              "                        [-0.0778,  0.1004,  0.0573]]],\n",
              "              \n",
              "              \n",
              "                      [[[-0.0182,  0.0044,  0.0889],\n",
              "                        [ 0.0627,  0.1037, -0.0062],\n",
              "                        [ 0.0112,  0.0491, -0.0137]],\n",
              "              \n",
              "                       [[ 0.0052,  0.0726, -0.0040],\n",
              "                        [-0.0553,  0.0668, -0.0722],\n",
              "                        [ 0.0208, -0.1008, -0.0274]],\n",
              "              \n",
              "                       [[ 0.0606, -0.0194, -0.0887],\n",
              "                        [ 0.0480,  0.0931,  0.0732],\n",
              "                        [ 0.0542, -0.0012, -0.0862]],\n",
              "              \n",
              "                       [[ 0.0739, -0.0376, -0.0749],\n",
              "                        [-0.0945,  0.0784, -0.0476],\n",
              "                        [-0.0314,  0.0430, -0.0816]],\n",
              "              \n",
              "                       [[-0.0881, -0.0378, -0.0216],\n",
              "                        [ 0.0190, -0.0329, -0.0900],\n",
              "                        [ 0.0128,  0.0307,  0.0628]],\n",
              "              \n",
              "                       [[-0.0706,  0.0568, -0.0029],\n",
              "                        [ 0.0009, -0.0912,  0.0592],\n",
              "                        [-0.0534, -0.0402,  0.0985]],\n",
              "              \n",
              "                       [[ 0.0095, -0.0959,  0.0212],\n",
              "                        [-0.0409, -0.0563, -0.0059],\n",
              "                        [-0.0688, -0.0242,  0.0884]],\n",
              "              \n",
              "                       [[ 0.0703,  0.0889,  0.0466],\n",
              "                        [ 0.0610, -0.0412, -0.0045],\n",
              "                        [ 0.0015, -0.0522, -0.0113]],\n",
              "              \n",
              "                       [[-0.0430, -0.1016, -0.0430],\n",
              "                        [ 0.0354, -0.0897, -0.0255],\n",
              "                        [ 0.0289, -0.0867,  0.0791]],\n",
              "              \n",
              "                       [[-0.0592, -0.0061,  0.0252],\n",
              "                        [ 0.0397, -0.1048,  0.0919],\n",
              "                        [ 0.1033,  0.0585,  0.0133]]],\n",
              "              \n",
              "              \n",
              "                      [[[-0.0561, -0.0241,  0.0144],\n",
              "                        [-0.0649,  0.0813, -0.0268],\n",
              "                        [ 0.0994,  0.0574, -0.0237]],\n",
              "              \n",
              "                       [[ 0.0113, -0.0126, -0.0617],\n",
              "                        [ 0.0409, -0.0959, -0.1032],\n",
              "                        [-0.0322, -0.0669, -0.0293]],\n",
              "              \n",
              "                       [[-0.0892, -0.0774,  0.0679],\n",
              "                        [ 0.0546,  0.0759,  0.0285],\n",
              "                        [-0.0517,  0.0921, -0.0649]],\n",
              "              \n",
              "                       [[ 0.0423, -0.0405, -0.0702],\n",
              "                        [-0.0264,  0.0948,  0.0548],\n",
              "                        [-0.0017, -0.0047, -0.0094]],\n",
              "              \n",
              "                       [[-0.0937, -0.0321, -0.0083],\n",
              "                        [ 0.0454,  0.0363,  0.0849],\n",
              "                        [-0.0296, -0.0076,  0.0049]],\n",
              "              \n",
              "                       [[-0.0042, -0.0710, -0.0527],\n",
              "                        [ 0.0627, -0.0848, -0.0564],\n",
              "                        [-0.0157,  0.0628,  0.0335]],\n",
              "              \n",
              "                       [[-0.0726,  0.0741,  0.0643],\n",
              "                        [ 0.0839,  0.0428, -0.1023],\n",
              "                        [ 0.0143,  0.0383, -0.0291]],\n",
              "              \n",
              "                       [[-0.0468, -0.0817, -0.0936],\n",
              "                        [ 0.0536,  0.0752,  0.0387],\n",
              "                        [ 0.0950,  0.0713, -0.0241]],\n",
              "              \n",
              "                       [[-0.0124, -0.0954, -0.0451],\n",
              "                        [ 0.0543, -0.0596,  0.0644],\n",
              "                        [ 0.0919, -0.0574,  0.0216]],\n",
              "              \n",
              "                       [[ 0.0860, -0.0886,  0.0725],\n",
              "                        [ 0.0279, -0.0580,  0.0410],\n",
              "                        [ 0.0777,  0.0870, -0.0874]]],\n",
              "              \n",
              "              \n",
              "                      [[[ 0.0984, -0.0096, -0.0644],\n",
              "                        [-0.0414,  0.0120,  0.0649],\n",
              "                        [ 0.0256, -0.0778,  0.0954]],\n",
              "              \n",
              "                       [[ 0.0544, -0.0304, -0.0609],\n",
              "                        [ 0.0078, -0.0909,  0.0294],\n",
              "                        [ 0.0129,  0.0921, -0.0235]],\n",
              "              \n",
              "                       [[ 0.0138,  0.0612, -0.0001],\n",
              "                        [ 0.0999,  0.0719,  0.0984],\n",
              "                        [ 0.0253,  0.0035, -0.0973]],\n",
              "              \n",
              "                       [[ 0.0073, -0.0074, -0.0336],\n",
              "                        [-0.0207,  0.0388,  0.0483],\n",
              "                        [-0.0738,  0.0204,  0.0635]],\n",
              "              \n",
              "                       [[-0.0740,  0.0470, -0.0388],\n",
              "                        [ 0.0492, -0.1006,  0.0078],\n",
              "                        [ 0.0443,  0.0030,  0.0452]],\n",
              "              \n",
              "                       [[-0.0019, -0.0526, -0.0474],\n",
              "                        [ 0.0501,  0.0158, -0.0660],\n",
              "                        [-0.0909, -0.0370,  0.0515]],\n",
              "              \n",
              "                       [[ 0.0960, -0.0858, -0.0238],\n",
              "                        [ 0.0958,  0.0742,  0.0477],\n",
              "                        [-0.0858, -0.0324,  0.0788]],\n",
              "              \n",
              "                       [[ 0.1048, -0.0025, -0.0440],\n",
              "                        [ 0.0697, -0.0102,  0.0248],\n",
              "                        [ 0.1046, -0.0405,  0.0163]],\n",
              "              \n",
              "                       [[ 0.0943,  0.0674, -0.0681],\n",
              "                        [ 0.0523, -0.0944,  0.0206],\n",
              "                        [ 0.0456,  0.0995, -0.0446]],\n",
              "              \n",
              "                       [[-0.0575,  0.0349, -0.0500],\n",
              "                        [ 0.0014,  0.0911,  0.0993],\n",
              "                        [-0.1014,  0.0273,  0.0073]]],\n",
              "              \n",
              "              \n",
              "                      [[[-0.0846,  0.0210, -0.0142],\n",
              "                        [ 0.0188, -0.0466, -0.0907],\n",
              "                        [-0.0195,  0.0435, -0.0511]],\n",
              "              \n",
              "                       [[-0.1035, -0.0221,  0.0828],\n",
              "                        [-0.0263,  0.0398,  0.1037],\n",
              "                        [-0.0158, -0.1032, -0.0376]],\n",
              "              \n",
              "                       [[ 0.1027, -0.0393,  0.0173],\n",
              "                        [ 0.0449,  0.0374,  0.0978],\n",
              "                        [ 0.0257,  0.0609,  0.0385]],\n",
              "              \n",
              "                       [[-0.0741, -0.0198,  0.1014],\n",
              "                        [-0.0612, -0.0007, -0.0878],\n",
              "                        [ 0.0333,  0.0268, -0.0732]],\n",
              "              \n",
              "                       [[ 0.0768,  0.0538, -0.0209],\n",
              "                        [ 0.0914, -0.0702,  0.0090],\n",
              "                        [-0.0183, -0.0691, -0.0904]],\n",
              "              \n",
              "                       [[-0.0445, -0.0845, -0.0606],\n",
              "                        [-0.0304,  0.0151, -0.0764],\n",
              "                        [ 0.0454, -0.0056, -0.0441]],\n",
              "              \n",
              "                       [[ 0.0698, -0.0218, -0.0289],\n",
              "                        [ 0.0128, -0.0947, -0.0126],\n",
              "                        [ 0.0732,  0.0957,  0.0689]],\n",
              "              \n",
              "                       [[ 0.0779, -0.0507,  0.1014],\n",
              "                        [-0.0568,  0.0992,  0.0727],\n",
              "                        [-0.1050,  0.0286, -0.1014]],\n",
              "              \n",
              "                       [[ 0.0917, -0.0073,  0.0171],\n",
              "                        [ 0.0224, -0.0590, -0.0701],\n",
              "                        [-0.0923,  0.0246,  0.0324]],\n",
              "              \n",
              "                       [[-0.0488,  0.0502, -0.0504],\n",
              "                        [-0.0378, -0.0810,  0.0405],\n",
              "                        [-0.1050,  0.0739, -0.0753]]],\n",
              "              \n",
              "              \n",
              "                      [[[-0.0897, -0.0150, -0.0776],\n",
              "                        [-0.0732,  0.0898, -0.0548],\n",
              "                        [ 0.0463,  0.0399,  0.0911]],\n",
              "              \n",
              "                       [[-0.0216, -0.0088, -0.0146],\n",
              "                        [-0.0441, -0.0284,  0.0680],\n",
              "                        [-0.0271, -0.0205,  0.0560]],\n",
              "              \n",
              "                       [[ 0.0341, -0.0616, -0.0560],\n",
              "                        [-0.0364,  0.0470, -0.0376],\n",
              "                        [ 0.0757, -0.0198, -0.0588]],\n",
              "              \n",
              "                       [[-0.0984, -0.0765, -0.0574],\n",
              "                        [ 0.0604, -0.0110,  0.0012],\n",
              "                        [-0.1032, -0.0633,  0.0352]],\n",
              "              \n",
              "                       [[ 0.0657, -0.0961,  0.0982],\n",
              "                        [-0.0258,  0.0580, -0.0203],\n",
              "                        [ 0.0608,  0.0118, -0.1040]],\n",
              "              \n",
              "                       [[ 0.0213, -0.0688,  0.0283],\n",
              "                        [-0.0671, -0.0909, -0.0778],\n",
              "                        [ 0.0626, -0.0514, -0.0360]],\n",
              "              \n",
              "                       [[-0.0597,  0.0134,  0.0968],\n",
              "                        [-0.0762, -0.0103,  0.0824],\n",
              "                        [ 0.0286,  0.0474,  0.1050]],\n",
              "              \n",
              "                       [[ 0.0831, -0.0397,  0.0429],\n",
              "                        [ 0.0490, -0.0842, -0.0784],\n",
              "                        [ 0.0684, -0.0375,  0.0460]],\n",
              "              \n",
              "                       [[ 0.0137, -0.0794,  0.0041],\n",
              "                        [-0.0273, -0.0848,  0.1003],\n",
              "                        [ 0.0328,  0.0058,  0.0852]],\n",
              "              \n",
              "                       [[ 0.0942, -0.0642, -0.0707],\n",
              "                        [ 0.0203, -0.0087,  0.0068],\n",
              "                        [ 0.0043, -0.0391, -0.0354]]]], device='cuda:0')),\n",
              "             ('conv_block_1.2.bias',\n",
              "              tensor([-0.0361, -0.0998, -0.0948, -0.0208, -0.0228, -0.0503, -0.0291, -0.0242,\n",
              "                      -0.0928, -0.0723], device='cuda:0')),\n",
              "             ('conv_block_2.0.weight',\n",
              "              tensor([[[[-0.0347, -0.0497,  0.0836],\n",
              "                        [-0.1048,  0.0155, -0.0459],\n",
              "                        [-0.0436, -0.0989,  0.0572]],\n",
              "              \n",
              "                       [[-0.0642,  0.0060,  0.0138],\n",
              "                        [ 0.0032,  0.0632, -0.0614],\n",
              "                        [ 0.0466, -0.0256,  0.0653]],\n",
              "              \n",
              "                       [[-0.0775, -0.0316,  0.0526],\n",
              "                        [-0.0601, -0.0789,  0.0217],\n",
              "                        [ 0.0396,  0.0730,  0.0098]],\n",
              "              \n",
              "                       [[ 0.0438, -0.0364,  0.0252],\n",
              "                        [-0.1008, -0.0286,  0.0128],\n",
              "                        [ 0.0516, -0.0853, -0.0488]],\n",
              "              \n",
              "                       [[-0.0183, -0.0862, -0.0140],\n",
              "                        [-0.0176, -0.0667, -0.0124],\n",
              "                        [ 0.0804,  0.0585,  0.0206]],\n",
              "              \n",
              "                       [[-0.0915, -0.0346, -0.1039],\n",
              "                        [ 0.0877,  0.0908, -0.0957],\n",
              "                        [ 0.0505, -0.0388, -0.0236]],\n",
              "              \n",
              "                       [[ 0.0584,  0.0442, -0.0423],\n",
              "                        [-0.0859, -0.0766, -0.0675],\n",
              "                        [-0.0541,  0.0143,  0.0059]],\n",
              "              \n",
              "                       [[ 0.0903,  0.0687,  0.0837],\n",
              "                        [-0.0282, -0.0249,  0.0868],\n",
              "                        [ 0.0492,  0.0747, -0.0071]],\n",
              "              \n",
              "                       [[-0.0160,  0.0020,  0.0329],\n",
              "                        [-0.0847, -0.0985,  0.0089],\n",
              "                        [-0.0549,  0.0862, -0.0003]],\n",
              "              \n",
              "                       [[-0.0367,  0.0187,  0.0388],\n",
              "                        [-0.0645, -0.0414, -0.0376],\n",
              "                        [ 0.0559,  0.0459, -0.0575]]],\n",
              "              \n",
              "              \n",
              "                      [[[-0.0671,  0.0153,  0.0418],\n",
              "                        [-0.0966, -0.0763, -0.0500],\n",
              "                        [-0.1044,  0.0333, -0.0995]],\n",
              "              \n",
              "                       [[-0.1014,  0.0385,  0.0648],\n",
              "                        [ 0.0291, -0.0283, -0.0545],\n",
              "                        [ 0.0928,  0.0525,  0.0705]],\n",
              "              \n",
              "                       [[-0.0462, -0.0258, -0.0941],\n",
              "                        [-0.0026, -0.0683, -0.0903],\n",
              "                        [ 0.0718, -0.0715, -0.0933]],\n",
              "              \n",
              "                       [[ 0.0655, -0.0356, -0.0682],\n",
              "                        [-0.0665, -0.0269, -0.0451],\n",
              "                        [-0.1020, -0.0069, -0.1053]],\n",
              "              \n",
              "                       [[ 0.0585, -0.0167,  0.0628],\n",
              "                        [ 0.0384,  0.0174,  0.0699],\n",
              "                        [-0.0303, -0.0487, -0.0120]],\n",
              "              \n",
              "                       [[-0.0548,  0.0260, -0.0516],\n",
              "                        [-0.0978,  0.0129, -0.0380],\n",
              "                        [-0.0076, -0.0651,  0.0180]],\n",
              "              \n",
              "                       [[-0.0388, -0.0854,  0.0067],\n",
              "                        [ 0.0528, -0.0905,  0.0969],\n",
              "                        [-0.0991,  0.0718,  0.0221]],\n",
              "              \n",
              "                       [[-0.0481, -0.0319, -0.1024],\n",
              "                        [-0.0453,  0.0439,  0.0429],\n",
              "                        [-0.0674,  0.0415,  0.0583]],\n",
              "              \n",
              "                       [[-0.0089,  0.0659, -0.1000],\n",
              "                        [ 0.0250, -0.0737, -0.0240],\n",
              "                        [-0.0654, -0.0740,  0.0701]],\n",
              "              \n",
              "                       [[ 0.0657, -0.0253, -0.0287],\n",
              "                        [-0.0932,  0.0645,  0.0480],\n",
              "                        [ 0.0074, -0.0519,  0.0103]]],\n",
              "              \n",
              "              \n",
              "                      [[[ 0.1031, -0.0457, -0.0336],\n",
              "                        [ 0.0522, -0.0183,  0.0071],\n",
              "                        [ 0.0045,  0.0723,  0.0494]],\n",
              "              \n",
              "                       [[-0.0997, -0.0596, -0.0902],\n",
              "                        [ 0.0637, -0.0896,  0.0506],\n",
              "                        [ 0.0195, -0.0033,  0.0403]],\n",
              "              \n",
              "                       [[ 0.1022, -0.0377,  0.0151],\n",
              "                        [ 0.0599, -0.0360,  0.0982],\n",
              "                        [ 0.0948,  0.0833, -0.0973]],\n",
              "              \n",
              "                       [[ 0.0011, -0.0120, -0.0447],\n",
              "                        [ 0.0747,  0.0176,  0.0852],\n",
              "                        [-0.0161,  0.0061, -0.0164]],\n",
              "              \n",
              "                       [[-0.0519, -0.0367,  0.0905],\n",
              "                        [-0.0063, -0.0591, -0.0491],\n",
              "                        [ 0.0228, -0.0367, -0.0882]],\n",
              "              \n",
              "                       [[ 0.0370, -0.0291,  0.0293],\n",
              "                        [-0.0178, -0.1010,  0.0654],\n",
              "                        [ 0.0967, -0.0908,  0.0421]],\n",
              "              \n",
              "                       [[-0.0280, -0.0558,  0.1010],\n",
              "                        [-0.0344, -0.0272, -0.0776],\n",
              "                        [ 0.0179,  0.0655, -0.0961]],\n",
              "              \n",
              "                       [[-0.0846, -0.0935, -0.0627],\n",
              "                        [ 0.1011, -0.1012, -0.0440],\n",
              "                        [-0.0728, -0.0259,  0.0520]],\n",
              "              \n",
              "                       [[ 0.0832,  0.0304,  0.0678],\n",
              "                        [ 0.0244,  0.0803,  0.0370],\n",
              "                        [ 0.0577,  0.0795, -0.0858]],\n",
              "              \n",
              "                       [[-0.0788,  0.0682,  0.0135],\n",
              "                        [-0.0246, -0.0977,  0.0954],\n",
              "                        [ 0.0658, -0.0651,  0.0532]]],\n",
              "              \n",
              "              \n",
              "                      [[[-0.0005,  0.0823, -0.0298],\n",
              "                        [-0.0545,  0.1020, -0.0614],\n",
              "                        [-0.0427, -0.0112,  0.0603]],\n",
              "              \n",
              "                       [[ 0.0403, -0.0843,  0.0533],\n",
              "                        [ 0.0341,  0.0621, -0.1020],\n",
              "                        [-0.0311,  0.0811, -0.0970]],\n",
              "              \n",
              "                       [[ 0.0415, -0.0083,  0.0978],\n",
              "                        [ 0.0840,  0.0622,  0.1005],\n",
              "                        [-0.0296, -0.0132, -0.0446]],\n",
              "              \n",
              "                       [[ 0.0922,  0.0389, -0.0058],\n",
              "                        [ 0.0329,  0.0901, -0.0071],\n",
              "                        [ 0.0043, -0.0051,  0.0366]],\n",
              "              \n",
              "                       [[ 0.0739,  0.0209, -0.0560],\n",
              "                        [-0.1005, -0.0134, -0.0546],\n",
              "                        [ 0.0273,  0.0765,  0.0755]],\n",
              "              \n",
              "                       [[-0.0137, -0.0122, -0.0895],\n",
              "                        [ 0.0946,  0.0735, -0.0771],\n",
              "                        [ 0.0305,  0.0302, -0.0931]],\n",
              "              \n",
              "                       [[-0.0275, -0.0484,  0.0089],\n",
              "                        [-0.0182, -0.0520,  0.0942],\n",
              "                        [-0.0135, -0.0818, -0.0018]],\n",
              "              \n",
              "                       [[-0.0472,  0.0471, -0.0804],\n",
              "                        [-0.0351, -0.0154, -0.0094],\n",
              "                        [-0.0499,  0.0897, -0.0259]],\n",
              "              \n",
              "                       [[-0.0294, -0.0268, -0.0449],\n",
              "                        [-0.0827, -0.0109,  0.0677],\n",
              "                        [ 0.0232, -0.0241,  0.0300]],\n",
              "              \n",
              "                       [[ 0.0884,  0.0534, -0.0069],\n",
              "                        [ 0.0752,  0.0327, -0.0942],\n",
              "                        [-0.0003, -0.0118, -0.0764]]],\n",
              "              \n",
              "              \n",
              "                      [[[-0.0637, -0.0617, -0.0190],\n",
              "                        [ 0.0202, -0.0188,  0.0272],\n",
              "                        [ 0.0424, -0.0594,  0.0311]],\n",
              "              \n",
              "                       [[ 0.0372, -0.0137,  0.0244],\n",
              "                        [-0.0230,  0.0066,  0.0803],\n",
              "                        [-0.0961, -0.0519,  0.0906]],\n",
              "              \n",
              "                       [[ 0.0692,  0.0631,  0.0830],\n",
              "                        [-0.0855, -0.0379,  0.0265],\n",
              "                        [ 0.0111,  0.0695, -0.0924]],\n",
              "              \n",
              "                       [[-0.0076,  0.0910, -0.0463],\n",
              "                        [-0.0436, -0.0778,  0.0991],\n",
              "                        [ 0.0976,  0.0050,  0.0374]],\n",
              "              \n",
              "                       [[ 0.0766, -0.0545,  0.0619],\n",
              "                        [-0.0077,  0.0585, -0.1049],\n",
              "                        [-0.0689, -0.0223,  0.0415]],\n",
              "              \n",
              "                       [[ 0.0940,  0.0694,  0.1052],\n",
              "                        [ 0.0889,  0.0869, -0.0948],\n",
              "                        [-0.0895, -0.0765,  0.0876]],\n",
              "              \n",
              "                       [[-0.0853,  0.0070, -0.0581],\n",
              "                        [ 0.0518,  0.0832, -0.0825],\n",
              "                        [ 0.0567, -0.0217, -0.0606]],\n",
              "              \n",
              "                       [[-0.0164,  0.0228,  0.0345],\n",
              "                        [ 0.0002,  0.0875,  0.0120],\n",
              "                        [-0.0055, -0.0430,  0.0832]],\n",
              "              \n",
              "                       [[-0.0023, -0.0088, -0.0157],\n",
              "                        [-0.0196, -0.0362, -0.0327],\n",
              "                        [-0.0921,  0.0571,  0.0006]],\n",
              "              \n",
              "                       [[-0.0458, -0.0655,  0.0491],\n",
              "                        [-0.0365, -0.0256,  0.0669],\n",
              "                        [ 0.0342, -0.0418,  0.0142]]],\n",
              "              \n",
              "              \n",
              "                      [[[ 0.0912, -0.0628, -0.0347],\n",
              "                        [-0.0050,  0.0852, -0.0827],\n",
              "                        [-0.0568, -0.0983, -0.0015]],\n",
              "              \n",
              "                       [[ 0.0155, -0.0416, -0.0823],\n",
              "                        [ 0.0507, -0.0903, -0.0601],\n",
              "                        [ 0.0517, -0.0024,  0.0702]],\n",
              "              \n",
              "                       [[ 0.0560,  0.0284, -0.0841],\n",
              "                        [ 0.0017, -0.0667,  0.0207],\n",
              "                        [-0.0511, -0.0185, -0.0336]],\n",
              "              \n",
              "                       [[-0.0085, -0.0249, -0.0368],\n",
              "                        [-0.0302, -0.0565,  0.1054],\n",
              "                        [ 0.0114, -0.0498,  0.0034]],\n",
              "              \n",
              "                       [[ 0.0856,  0.0525, -0.0119],\n",
              "                        [-0.0574,  0.0644, -0.0037],\n",
              "                        [-0.0503, -0.0603,  0.0264]],\n",
              "              \n",
              "                       [[ 0.0939, -0.0886,  0.0258],\n",
              "                        [-0.0764,  0.0838,  0.0152],\n",
              "                        [ 0.0542, -0.0339, -0.0507]],\n",
              "              \n",
              "                       [[ 0.0274, -0.0529, -0.1018],\n",
              "                        [ 0.0395, -0.0456,  0.0478],\n",
              "                        [ 0.0284, -0.0192, -0.0738]],\n",
              "              \n",
              "                       [[-0.0517, -0.0118,  0.0946],\n",
              "                        [-0.0039, -0.0505, -0.0712],\n",
              "                        [-0.0492,  0.0592, -0.0466]],\n",
              "              \n",
              "                       [[-0.0232, -0.0278, -0.0930],\n",
              "                        [ 0.0892, -0.0594,  0.0709],\n",
              "                        [-0.0990,  0.0051,  0.0969]],\n",
              "              \n",
              "                       [[ 0.0692,  0.0190, -0.0706],\n",
              "                        [-0.0234,  0.0008, -0.0183],\n",
              "                        [-0.0509, -0.1001, -0.0885]]],\n",
              "              \n",
              "              \n",
              "                      [[[ 0.0472,  0.0413,  0.0316],\n",
              "                        [ 0.1010, -0.0084, -0.0054],\n",
              "                        [-0.0921, -0.0654, -0.0730]],\n",
              "              \n",
              "                       [[ 0.0940,  0.0885, -0.0257],\n",
              "                        [ 0.0158,  0.0188,  0.0894],\n",
              "                        [ 0.0523, -0.0389, -0.0197]],\n",
              "              \n",
              "                       [[ 0.0161,  0.0584,  0.0570],\n",
              "                        [-0.0455,  0.0656,  0.0329],\n",
              "                        [-0.0423,  0.0796,  0.0457]],\n",
              "              \n",
              "                       [[ 0.0589,  0.0471,  0.0947],\n",
              "                        [-0.0518, -0.0316, -0.0849],\n",
              "                        [ 0.0460,  0.0537, -0.0777]],\n",
              "              \n",
              "                       [[-0.1027,  0.0070, -0.0461],\n",
              "                        [ 0.0323,  0.0012, -0.0227],\n",
              "                        [-0.0361, -0.0635,  0.0062]],\n",
              "              \n",
              "                       [[-0.0988,  0.0335, -0.0868],\n",
              "                        [-0.0058,  0.0892, -0.0912],\n",
              "                        [ 0.0252,  0.0070, -0.0293]],\n",
              "              \n",
              "                       [[-0.0563,  0.0630,  0.0943],\n",
              "                        [-0.0215, -0.0928,  0.0399],\n",
              "                        [-0.0070, -0.0215,  0.1000]],\n",
              "              \n",
              "                       [[-0.0355, -0.0588, -0.0917],\n",
              "                        [ 0.0514, -0.0971,  0.0205],\n",
              "                        [ 0.0989,  0.0243, -0.0736]],\n",
              "              \n",
              "                       [[ 0.0402,  0.0466,  0.0342],\n",
              "                        [-0.0336, -0.0408,  0.0797],\n",
              "                        [ 0.0917,  0.0380,  0.0788]],\n",
              "              \n",
              "                       [[-0.0818, -0.0551,  0.0545],\n",
              "                        [-0.1051,  0.0818,  0.1001],\n",
              "                        [ 0.0938,  0.0283,  0.0562]]],\n",
              "              \n",
              "              \n",
              "                      [[[ 0.0637, -0.0807,  0.0153],\n",
              "                        [-0.0936,  0.0753,  0.0889],\n",
              "                        [ 0.0455, -0.0832,  0.0133]],\n",
              "              \n",
              "                       [[ 0.0325, -0.0860, -0.0587],\n",
              "                        [ 0.0478, -0.0922,  0.0244],\n",
              "                        [-0.0006, -0.0875, -0.0462]],\n",
              "              \n",
              "                       [[-0.0844, -0.0336, -0.0859],\n",
              "                        [ 0.0626, -0.0992, -0.0233],\n",
              "                        [ 0.0728,  0.0386,  0.0084]],\n",
              "              \n",
              "                       [[-0.0385,  0.0615,  0.0127],\n",
              "                        [ 0.0487,  0.0502,  0.0707],\n",
              "                        [ 0.0103, -0.0232, -0.1032]],\n",
              "              \n",
              "                       [[ 0.1000,  0.0139, -0.0707],\n",
              "                        [-0.0285,  0.0642, -0.0907],\n",
              "                        [ 0.0572, -0.0983,  0.0563]],\n",
              "              \n",
              "                       [[-0.0263,  0.0909, -0.0276],\n",
              "                        [-0.0863, -0.0541,  0.0433],\n",
              "                        [ 0.0356,  0.0757,  0.0016]],\n",
              "              \n",
              "                       [[ 0.0897, -0.0228, -0.0455],\n",
              "                        [ 0.0356,  0.0047, -0.0132],\n",
              "                        [ 0.0393,  0.0848,  0.0126]],\n",
              "              \n",
              "                       [[-0.0728, -0.0959,  0.0542],\n",
              "                        [-0.0164,  0.0911, -0.0779],\n",
              "                        [-0.0281, -0.0954, -0.0098]],\n",
              "              \n",
              "                       [[ 0.0940,  0.0970, -0.0045],\n",
              "                        [-0.0091, -0.0570, -0.0864],\n",
              "                        [ 0.0700, -0.0244,  0.0855]],\n",
              "              \n",
              "                       [[ 0.0554,  0.0565,  0.0478],\n",
              "                        [ 0.0048, -0.0168,  0.0551],\n",
              "                        [ 0.0223,  0.0552, -0.0403]]],\n",
              "              \n",
              "              \n",
              "                      [[[-0.0623, -0.0485,  0.0181],\n",
              "                        [-0.0153,  0.0919,  0.0443],\n",
              "                        [-0.0133,  0.0698,  0.0382]],\n",
              "              \n",
              "                       [[ 0.0115,  0.0022,  0.0677],\n",
              "                        [-0.1005, -0.0996, -0.1030],\n",
              "                        [-0.0279, -0.0627,  0.0698]],\n",
              "              \n",
              "                       [[-0.0892, -0.0494,  0.0552],\n",
              "                        [ 0.0324,  0.0972,  0.0888],\n",
              "                        [ 0.0409, -0.0314, -0.0068]],\n",
              "              \n",
              "                       [[ 0.0679, -0.0815, -0.0455],\n",
              "                        [ 0.0532, -0.0369, -0.1012],\n",
              "                        [-0.1046, -0.0297, -0.0428]],\n",
              "              \n",
              "                       [[-0.0702,  0.0375, -0.0927],\n",
              "                        [ 0.0888,  0.0826,  0.0441],\n",
              "                        [-0.0478,  0.0752,  0.0226]],\n",
              "              \n",
              "                       [[ 0.1010, -0.0306,  0.0712],\n",
              "                        [-0.0010, -0.1039, -0.0118],\n",
              "                        [-0.0342,  0.0829, -0.0833]],\n",
              "              \n",
              "                       [[ 0.0376,  0.1026,  0.0727],\n",
              "                        [ 0.0755, -0.0161, -0.0506],\n",
              "                        [ 0.0186,  0.0924,  0.0932]],\n",
              "              \n",
              "                       [[ 0.0088,  0.0849,  0.0348],\n",
              "                        [-0.0734, -0.0664, -0.0070],\n",
              "                        [ 0.0575, -0.0622,  0.0710]],\n",
              "              \n",
              "                       [[ 0.1000,  0.0108, -0.0659],\n",
              "                        [-0.0681, -0.1006, -0.0253],\n",
              "                        [ 0.0723,  0.0273, -0.0417]],\n",
              "              \n",
              "                       [[ 0.0415,  0.0617,  0.0389],\n",
              "                        [ 0.0183,  0.0761, -0.0647],\n",
              "                        [ 0.0530,  0.0920,  0.0562]]],\n",
              "              \n",
              "              \n",
              "                      [[[ 0.0526, -0.0540,  0.0826],\n",
              "                        [-0.0050,  0.0920,  0.0430],\n",
              "                        [ 0.0946,  0.0430,  0.0524]],\n",
              "              \n",
              "                       [[-0.0350,  0.0210,  0.0499],\n",
              "                        [-0.0439,  0.0208,  0.0476],\n",
              "                        [-0.0418, -0.0749,  0.0186]],\n",
              "              \n",
              "                       [[-0.0663, -0.0069,  0.0802],\n",
              "                        [-0.0766, -0.0387,  0.0747],\n",
              "                        [-0.0818,  0.0470,  0.0472]],\n",
              "              \n",
              "                       [[-0.0766, -0.1006, -0.0496],\n",
              "                        [ 0.0606,  0.1050, -0.0386],\n",
              "                        [-0.0376, -0.0281,  0.0293]],\n",
              "              \n",
              "                       [[-0.0208, -0.0637, -0.0402],\n",
              "                        [ 0.0498,  0.0167,  0.0080],\n",
              "                        [ 0.0032,  0.0865,  0.0377]],\n",
              "              \n",
              "                       [[-0.0310, -0.0416,  0.0520],\n",
              "                        [ 0.0036,  0.0611,  0.0599],\n",
              "                        [-0.0974,  0.0229,  0.1000]],\n",
              "              \n",
              "                       [[-0.0265, -0.0962,  0.0010],\n",
              "                        [-0.0923, -0.0666,  0.0997],\n",
              "                        [-0.0629,  0.0049,  0.0693]],\n",
              "              \n",
              "                       [[ 0.0948,  0.0052,  0.0744],\n",
              "                        [ 0.0978,  0.1023, -0.0836],\n",
              "                        [ 0.0234, -0.0256, -0.0190]],\n",
              "              \n",
              "                       [[ 0.0517,  0.0272,  0.0885],\n",
              "                        [-0.0006, -0.0953,  0.0813],\n",
              "                        [ 0.0126, -0.0457, -0.0545]],\n",
              "              \n",
              "                       [[-0.0050,  0.0356,  0.0286],\n",
              "                        [ 0.0820,  0.0719,  0.0722],\n",
              "                        [ 0.0082, -0.0200,  0.0922]]]], device='cuda:0')),\n",
              "             ('conv_block_2.0.bias',\n",
              "              tensor([-0.0642,  0.0276,  0.0920,  0.0927, -0.0579,  0.0335, -0.0700,  0.0959,\n",
              "                       0.0856,  0.0605], device='cuda:0')),\n",
              "             ('conv_block_2.2.weight',\n",
              "              tensor([[[[-4.7456e-02,  9.8450e-02, -9.7172e-02],\n",
              "                        [ 2.3189e-02,  7.2955e-02, -9.0080e-02],\n",
              "                        [-2.6079e-03,  2.9402e-02,  4.3721e-02]],\n",
              "              \n",
              "                       [[-6.7980e-02,  9.0603e-02, -1.1804e-02],\n",
              "                        [-7.0175e-02, -5.4726e-02,  8.1613e-02],\n",
              "                        [-4.5299e-02,  1.0063e-02, -6.8240e-02]],\n",
              "              \n",
              "                       [[ 9.7139e-02, -7.6646e-02, -1.4298e-02],\n",
              "                        [ 9.2398e-02, -5.6378e-02,  4.9208e-02],\n",
              "                        [-2.5803e-02, -6.7806e-02,  4.7579e-02]],\n",
              "              \n",
              "                       [[ 5.5989e-02, -3.7892e-02,  8.7797e-02],\n",
              "                        [ 8.5773e-02,  6.8405e-02, -1.0504e-01],\n",
              "                        [-2.8097e-02, -2.5645e-02,  1.6989e-02]],\n",
              "              \n",
              "                       [[ 3.0266e-02,  8.1825e-02, -5.9823e-02],\n",
              "                        [-6.4941e-02, -9.1457e-03, -8.7406e-02],\n",
              "                        [-2.3494e-02,  9.9141e-03,  6.4539e-02]],\n",
              "              \n",
              "                       [[-6.5336e-02, -8.9307e-02, -6.6879e-02],\n",
              "                        [-7.0270e-02, -6.1754e-02,  3.3207e-02],\n",
              "                        [-3.6590e-02, -9.7456e-02,  5.3148e-02]],\n",
              "              \n",
              "                       [[ 1.9323e-02,  5.9704e-02,  2.6395e-02],\n",
              "                        [-6.1489e-03, -4.9139e-02, -7.2205e-02],\n",
              "                        [-9.3690e-02,  3.0125e-02,  4.6366e-02]],\n",
              "              \n",
              "                       [[-1.8751e-02, -3.8277e-02,  1.6335e-02],\n",
              "                        [-2.6646e-02,  2.6365e-02, -7.6551e-03],\n",
              "                        [ 3.6177e-02,  2.6565e-03,  5.7078e-02]],\n",
              "              \n",
              "                       [[-7.2602e-02,  3.9677e-03, -4.5610e-02],\n",
              "                        [-6.0789e-02, -3.6845e-02, -4.2098e-02],\n",
              "                        [-9.8416e-02, -8.9317e-02, -7.6012e-02]],\n",
              "              \n",
              "                       [[ 6.7815e-02, -6.5459e-02,  2.9913e-04],\n",
              "                        [ 3.8774e-02, -7.2364e-02,  9.6310e-02],\n",
              "                        [-1.4624e-02, -2.9220e-02,  3.9161e-03]]],\n",
              "              \n",
              "              \n",
              "                      [[[ 5.6950e-02, -6.7736e-02, -3.8174e-02],\n",
              "                        [ 1.0576e-02,  5.1606e-03, -4.1204e-02],\n",
              "                        [-9.7454e-03, -8.4247e-03, -5.3149e-02]],\n",
              "              \n",
              "                       [[-7.6763e-02, -8.3704e-02, -9.4419e-02],\n",
              "                        [ 7.5150e-02, -6.9564e-02,  1.3243e-02],\n",
              "                        [-3.1535e-02,  8.9055e-02, -4.6209e-02]],\n",
              "              \n",
              "                       [[ 2.3513e-02,  5.0051e-02, -9.7721e-02],\n",
              "                        [ 3.3786e-02,  5.0964e-03, -9.5647e-02],\n",
              "                        [-8.7592e-02,  8.0157e-02,  2.9326e-03]],\n",
              "              \n",
              "                       [[-5.2454e-02, -3.1702e-02, -3.1852e-02],\n",
              "                        [-3.1228e-02, -5.1764e-02, -5.7023e-02],\n",
              "                        [-1.5831e-02, -6.0723e-02,  9.4799e-02]],\n",
              "              \n",
              "                       [[ 1.0183e-01,  7.0439e-02, -5.7790e-05],\n",
              "                        [-1.1971e-02,  9.5301e-02, -6.4406e-02],\n",
              "                        [-9.8344e-02, -2.7817e-02, -7.1696e-02]],\n",
              "              \n",
              "                       [[ 8.2081e-02,  9.4536e-02, -2.3212e-02],\n",
              "                        [ 8.3627e-02,  2.9584e-02,  2.1821e-02],\n",
              "                        [-7.6380e-02,  5.8894e-02, -7.3588e-02]],\n",
              "              \n",
              "                       [[-7.5189e-02,  3.8111e-02, -4.1717e-02],\n",
              "                        [-2.0956e-02,  4.4146e-02, -5.1766e-02],\n",
              "                        [ 4.3744e-02, -1.6176e-02, -8.1964e-02]],\n",
              "              \n",
              "                       [[-4.8016e-02,  7.2403e-02,  7.5783e-02],\n",
              "                        [ 8.9294e-02, -4.5357e-02, -6.7356e-02],\n",
              "                        [ 1.0150e-01,  1.6449e-02, -7.7784e-02]],\n",
              "              \n",
              "                       [[-1.4276e-02,  4.4376e-02,  2.5753e-02],\n",
              "                        [ 8.5022e-03,  1.0471e-02, -5.1828e-02],\n",
              "                        [ 9.6159e-02, -9.7763e-02, -8.3784e-02]],\n",
              "              \n",
              "                       [[-7.8856e-02,  5.4468e-02,  1.0131e-01],\n",
              "                        [-1.0723e-02,  5.5583e-02,  1.0343e-01],\n",
              "                        [ 8.0215e-02, -2.5075e-02, -7.5214e-02]]],\n",
              "              \n",
              "              \n",
              "                      [[[ 9.8418e-02, -2.9509e-02,  7.3363e-02],\n",
              "                        [-6.6993e-02,  1.0155e-01, -8.3774e-02],\n",
              "                        [-1.5260e-02,  3.3989e-02,  8.7148e-02]],\n",
              "              \n",
              "                       [[ 4.0288e-02,  8.9130e-03, -7.6281e-02],\n",
              "                        [ 1.9975e-02, -4.6445e-02, -5.7730e-02],\n",
              "                        [-9.2013e-02, -9.7925e-02,  7.0085e-02]],\n",
              "              \n",
              "                       [[ 3.8361e-02, -1.1755e-02,  8.0949e-02],\n",
              "                        [ 4.7768e-02, -6.4456e-04,  5.7519e-03],\n",
              "                        [ 6.8891e-02, -8.7879e-02,  6.4409e-02]],\n",
              "              \n",
              "                       [[ 1.7528e-03,  8.8991e-02, -1.1008e-02],\n",
              "                        [ 9.8427e-02,  1.1853e-02,  2.6276e-03],\n",
              "                        [ 1.4539e-02, -1.1936e-02,  3.1019e-02]],\n",
              "              \n",
              "                       [[ 4.1352e-02,  3.4526e-02, -4.2355e-02],\n",
              "                        [ 7.5159e-02,  1.1059e-02,  1.1534e-02],\n",
              "                        [-5.0396e-02,  2.5510e-02,  9.4523e-02]],\n",
              "              \n",
              "                       [[-1.4495e-02, -9.2761e-02, -7.8907e-02],\n",
              "                        [-7.2080e-02, -2.8420e-02,  7.9463e-02],\n",
              "                        [-7.9703e-02, -7.5566e-02,  1.0338e-01]],\n",
              "              \n",
              "                       [[ 2.8451e-02, -3.7441e-02,  2.4809e-02],\n",
              "                        [ 7.6902e-02,  2.9835e-03, -7.7873e-02],\n",
              "                        [-8.4258e-02, -1.0532e-01, -6.8323e-02]],\n",
              "              \n",
              "                       [[ 2.9283e-02, -9.3753e-02, -2.8210e-02],\n",
              "                        [ 6.6272e-02, -9.7321e-02, -1.0219e-01],\n",
              "                        [ 1.9859e-02, -8.1741e-03, -8.4729e-02]],\n",
              "              \n",
              "                       [[-6.9397e-02, -5.2061e-02, -6.7559e-02],\n",
              "                        [ 5.0235e-02, -1.0126e-01, -2.2297e-02],\n",
              "                        [ 1.1031e-02,  3.3926e-02,  5.8042e-03]],\n",
              "              \n",
              "                       [[-6.8162e-03, -7.4652e-02, -8.5787e-02],\n",
              "                        [-7.4918e-02, -2.4543e-02, -5.0877e-02],\n",
              "                        [-6.7140e-02,  2.4268e-02, -5.1544e-03]]],\n",
              "              \n",
              "              \n",
              "                      [[[ 7.6564e-02, -9.5128e-02, -8.5568e-02],\n",
              "                        [ 9.6888e-02, -3.9085e-03,  1.1500e-02],\n",
              "                        [-1.4486e-02,  1.8031e-02,  4.2562e-02]],\n",
              "              \n",
              "                       [[-8.7627e-02,  9.0426e-03, -1.6354e-02],\n",
              "                        [ 3.5695e-02,  8.9824e-03,  7.4301e-02],\n",
              "                        [ 2.5126e-02,  5.7228e-03,  1.8622e-03]],\n",
              "              \n",
              "                       [[ 4.3919e-02,  6.5411e-02,  9.0423e-05],\n",
              "                        [ 5.6580e-02,  6.7179e-02,  6.8309e-02],\n",
              "                        [ 8.7919e-02,  3.9786e-02,  4.2332e-02]],\n",
              "              \n",
              "                       [[-2.7863e-02, -2.0599e-02, -1.0267e-01],\n",
              "                        [ 3.1939e-02, -8.1604e-02, -9.1511e-02],\n",
              "                        [-2.6850e-02,  2.4889e-02,  6.1237e-02]],\n",
              "              \n",
              "                       [[ 1.0474e-01,  5.9678e-02, -9.2203e-03],\n",
              "                        [ 2.5216e-02,  6.9047e-02,  1.4832e-02],\n",
              "                        [-1.2741e-02, -1.2175e-02, -5.6533e-02]],\n",
              "              \n",
              "                       [[-9.7742e-02,  8.1339e-02, -1.7134e-02],\n",
              "                        [ 9.8958e-02, -2.8723e-02,  8.0693e-02],\n",
              "                        [ 7.5547e-03,  2.0936e-02, -9.1309e-02]],\n",
              "              \n",
              "                       [[-2.5483e-02, -2.8126e-02, -3.5230e-02],\n",
              "                        [ 6.2484e-02,  1.7409e-02,  8.8500e-02],\n",
              "                        [ 6.6235e-02, -1.1443e-02,  1.0413e-01]],\n",
              "              \n",
              "                       [[-4.2825e-03,  4.6873e-04, -5.5988e-02],\n",
              "                        [-1.4870e-02,  4.7882e-03, -1.9840e-02],\n",
              "                        [-9.0656e-02,  4.4879e-02,  6.4851e-02]],\n",
              "              \n",
              "                       [[-6.8664e-02,  1.0050e-01, -5.5811e-03],\n",
              "                        [ 3.0866e-02, -1.0158e-01, -2.1239e-02],\n",
              "                        [-6.8289e-02, -5.0707e-02, -2.7854e-02]],\n",
              "              \n",
              "                       [[-1.2410e-02, -4.9971e-02,  5.1554e-02],\n",
              "                        [ 1.9460e-02,  6.2253e-02, -7.5199e-02],\n",
              "                        [ 5.1667e-02,  4.8420e-02, -3.0972e-02]]],\n",
              "              \n",
              "              \n",
              "                      [[[-4.3090e-02, -7.3539e-02, -6.5672e-03],\n",
              "                        [ 1.8566e-02,  1.2242e-02, -9.2829e-02],\n",
              "                        [ 6.1249e-02,  8.9095e-02,  3.0733e-02]],\n",
              "              \n",
              "                       [[ 3.5879e-02, -3.7791e-02, -6.9418e-02],\n",
              "                        [-9.7992e-02, -5.4428e-02, -2.3833e-02],\n",
              "                        [-6.1221e-02, -4.6161e-02, -2.4733e-02]],\n",
              "              \n",
              "                       [[ 4.8698e-02,  4.8356e-02, -3.7606e-02],\n",
              "                        [ 5.0670e-02,  5.9188e-03, -5.3123e-02],\n",
              "                        [ 2.0073e-02,  5.3523e-02,  3.5880e-02]],\n",
              "              \n",
              "                       [[-2.7997e-02, -7.8587e-02,  6.4905e-02],\n",
              "                        [ 7.8569e-02, -5.5489e-02,  8.8899e-02],\n",
              "                        [ 7.8444e-04, -4.8353e-02,  4.0478e-02]],\n",
              "              \n",
              "                       [[ 8.6758e-02, -4.6131e-02,  1.8356e-02],\n",
              "                        [ 1.0451e-01, -7.2743e-02, -9.4866e-02],\n",
              "                        [-6.0653e-02, -1.8476e-02,  7.9407e-02]],\n",
              "              \n",
              "                       [[-9.1531e-02,  9.7937e-03,  1.0152e-01],\n",
              "                        [-3.4735e-02, -9.0818e-02, -8.1173e-02],\n",
              "                        [-5.1232e-02, -3.6879e-02,  4.3849e-02]],\n",
              "              \n",
              "                       [[ 8.8280e-02,  5.0258e-02,  1.0324e-01],\n",
              "                        [ 3.3254e-03,  8.4351e-03,  5.7272e-02],\n",
              "                        [-8.3618e-02,  6.9448e-02, -1.0421e-01]],\n",
              "              \n",
              "                       [[ 4.4019e-02, -3.4053e-02,  8.1984e-02],\n",
              "                        [-1.7179e-02, -3.2510e-02,  4.3884e-02],\n",
              "                        [-9.6386e-02, -1.5731e-02,  8.7112e-02]],\n",
              "              \n",
              "                       [[-4.6979e-02,  2.9836e-02, -1.0191e-01],\n",
              "                        [-9.5006e-03,  4.8806e-02, -8.7854e-02],\n",
              "                        [-5.0489e-02,  5.3732e-02,  5.7356e-02]],\n",
              "              \n",
              "                       [[ 1.5627e-02,  6.8352e-02,  2.9850e-02],\n",
              "                        [ 5.6926e-02, -6.2026e-02, -2.6844e-02],\n",
              "                        [-5.1989e-02,  2.0551e-03, -5.8987e-02]]],\n",
              "              \n",
              "              \n",
              "                      [[[ 7.6693e-02,  7.4489e-02,  2.0445e-02],\n",
              "                        [-5.9589e-02, -2.6822e-02,  8.4063e-02],\n",
              "                        [-6.0244e-02, -5.6626e-02, -1.0148e-01]],\n",
              "              \n",
              "                       [[ 1.1534e-02,  1.0375e-01,  2.4640e-03],\n",
              "                        [-2.2282e-02, -7.2055e-02,  7.5509e-02],\n",
              "                        [ 2.2424e-02,  4.6241e-02, -5.0917e-02]],\n",
              "              \n",
              "                       [[ 1.0413e-01,  1.0322e-01, -9.7695e-02],\n",
              "                        [ 5.3091e-02,  4.0234e-02,  2.7110e-02],\n",
              "                        [-3.3483e-02, -3.9695e-02,  7.9183e-02]],\n",
              "              \n",
              "                       [[ 9.2836e-02, -3.1845e-03, -2.2871e-02],\n",
              "                        [-7.7566e-02,  8.9709e-02, -5.2905e-02],\n",
              "                        [ 5.7746e-02, -6.8962e-02, -3.9155e-02]],\n",
              "              \n",
              "                       [[ 9.3219e-02, -2.7057e-02,  6.1534e-02],\n",
              "                        [ 6.4254e-02,  3.5577e-02, -6.3350e-02],\n",
              "                        [-5.0331e-02, -4.7055e-02, -7.5415e-02]],\n",
              "              \n",
              "                       [[-1.0185e-01, -3.8925e-02,  6.3439e-02],\n",
              "                        [-8.8195e-02,  5.2951e-02,  2.1057e-02],\n",
              "                        [-5.3390e-02, -3.8628e-02, -9.2355e-02]],\n",
              "              \n",
              "                       [[ 3.3639e-02,  2.7910e-02, -1.0206e-01],\n",
              "                        [ 6.2881e-03,  2.1436e-03, -9.9811e-02],\n",
              "                        [ 8.2757e-02, -2.6594e-02, -4.3610e-02]],\n",
              "              \n",
              "                       [[-7.5620e-02,  5.4278e-02,  1.9469e-02],\n",
              "                        [-1.0421e-01, -8.8842e-02, -9.7667e-02],\n",
              "                        [ 9.5138e-02, -4.3614e-02, -2.8124e-02]],\n",
              "              \n",
              "                       [[ 7.3132e-02, -9.8899e-02,  3.9727e-02],\n",
              "                        [-4.4973e-02, -8.1230e-02,  6.1670e-02],\n",
              "                        [-7.0717e-02,  6.4109e-02, -6.9527e-02]],\n",
              "              \n",
              "                       [[ 4.1784e-02,  8.6582e-02, -9.5175e-02],\n",
              "                        [ 1.0214e-02,  5.7516e-02,  2.9766e-02],\n",
              "                        [-4.6940e-02,  2.6271e-02,  3.1611e-02]]],\n",
              "              \n",
              "              \n",
              "                      [[[-8.1627e-02, -2.5236e-02, -5.6663e-02],\n",
              "                        [ 1.8333e-02, -9.7042e-02,  5.4618e-02],\n",
              "                        [ 1.0339e-01, -1.0213e-01, -5.4746e-02]],\n",
              "              \n",
              "                       [[ 2.6763e-02, -1.0829e-02,  1.1834e-02],\n",
              "                        [-7.9289e-02, -3.9430e-02, -9.2961e-02],\n",
              "                        [-8.6559e-02, -3.5372e-02,  4.6943e-02]],\n",
              "              \n",
              "                       [[ 5.6878e-02,  6.3754e-02, -3.1038e-02],\n",
              "                        [ 6.4743e-02, -1.0126e-01,  4.0540e-02],\n",
              "                        [ 7.4111e-03,  3.0236e-03, -5.0088e-02]],\n",
              "              \n",
              "                       [[-3.6752e-02,  7.7525e-03, -8.7178e-03],\n",
              "                        [ 8.9638e-02, -7.3921e-02, -3.8624e-02],\n",
              "                        [ 1.3569e-02, -2.5000e-02,  2.4630e-02]],\n",
              "              \n",
              "                       [[ 5.6678e-02, -7.5632e-02,  1.2362e-02],\n",
              "                        [-2.8932e-02,  3.8642e-02,  6.3412e-02],\n",
              "                        [ 9.8746e-02,  4.1415e-04, -6.0579e-02]],\n",
              "              \n",
              "                       [[-8.4592e-02,  1.9864e-02, -9.7917e-02],\n",
              "                        [-8.8503e-02,  2.6029e-02,  6.0137e-02],\n",
              "                        [ 1.0190e-01,  9.2380e-02,  7.5277e-02]],\n",
              "              \n",
              "                       [[-4.4092e-03,  4.0803e-02,  1.6950e-02],\n",
              "                        [ 5.6018e-02, -9.9633e-02, -9.9901e-02],\n",
              "                        [ 1.8381e-02, -5.4401e-02,  5.2836e-02]],\n",
              "              \n",
              "                       [[-7.6878e-02, -8.2652e-02, -6.6732e-02],\n",
              "                        [-5.3924e-02, -8.3378e-02,  8.7716e-02],\n",
              "                        [-6.8344e-02,  6.7845e-02, -5.8508e-02]],\n",
              "              \n",
              "                       [[ 9.7480e-02, -1.7835e-02, -8.2432e-02],\n",
              "                        [ 9.5781e-02,  5.3696e-02,  8.5426e-02],\n",
              "                        [-8.8091e-02, -4.9115e-03, -8.9577e-03]],\n",
              "              \n",
              "                       [[-1.5097e-04,  1.4076e-02, -9.4768e-02],\n",
              "                        [ 2.0444e-02,  7.3286e-02,  3.1789e-02],\n",
              "                        [-7.9271e-02, -3.7205e-02, -7.8265e-03]]],\n",
              "              \n",
              "              \n",
              "                      [[[-1.4639e-02, -2.7544e-02, -2.0879e-02],\n",
              "                        [ 6.9468e-02, -1.5950e-02,  8.6852e-02],\n",
              "                        [-1.2177e-02, -2.5380e-02, -4.8135e-02]],\n",
              "              \n",
              "                       [[-7.0527e-02, -2.0037e-02,  1.0459e-01],\n",
              "                        [ 4.5747e-02,  5.5746e-02, -9.3366e-02],\n",
              "                        [ 9.1323e-03, -9.2461e-02,  1.4494e-02]],\n",
              "              \n",
              "                       [[ 9.7303e-02,  5.6683e-02,  2.6422e-02],\n",
              "                        [ 6.8418e-02, -3.8760e-02,  7.5685e-02],\n",
              "                        [ 5.5155e-02,  6.8503e-02, -6.4253e-02]],\n",
              "              \n",
              "                       [[-5.6709e-02,  1.0410e-01,  1.8919e-02],\n",
              "                        [-7.8764e-02, -3.4553e-02, -8.8995e-02],\n",
              "                        [ 3.0838e-02, -7.5383e-02, -3.5716e-02]],\n",
              "              \n",
              "                       [[-1.2093e-02,  9.4803e-02,  1.4863e-02],\n",
              "                        [ 2.9165e-02,  8.5904e-03, -2.3508e-02],\n",
              "                        [-4.9959e-02,  1.5185e-02,  6.1283e-02]],\n",
              "              \n",
              "                       [[ 5.1107e-02,  8.6519e-02, -1.0185e-01],\n",
              "                        [ 2.1647e-02, -7.3717e-02, -6.9722e-02],\n",
              "                        [ 2.7012e-02, -5.8331e-02, -4.0691e-02]],\n",
              "              \n",
              "                       [[-9.6402e-02,  3.2435e-02,  8.2586e-02],\n",
              "                        [-9.6685e-02,  3.6093e-03,  4.4465e-02],\n",
              "                        [ 5.3540e-02, -2.5355e-02, -1.1966e-02]],\n",
              "              \n",
              "                       [[ 5.9398e-02, -3.6028e-02,  1.0195e-02],\n",
              "                        [ 4.1923e-02, -6.8661e-02,  5.9136e-02],\n",
              "                        [ 6.5176e-02, -7.8949e-02, -7.7601e-02]],\n",
              "              \n",
              "                       [[ 2.1991e-02,  5.2067e-02, -3.0236e-02],\n",
              "                        [ 2.5613e-02, -8.4660e-02, -6.5395e-02],\n",
              "                        [-5.0300e-02, -1.0292e-01, -2.5200e-02]],\n",
              "              \n",
              "                       [[-5.9955e-02,  2.6111e-02,  3.2728e-02],\n",
              "                        [ 9.0846e-02, -1.1285e-02,  7.5924e-02],\n",
              "                        [-7.1816e-02, -1.8682e-02, -1.0080e-01]]],\n",
              "              \n",
              "              \n",
              "                      [[[-5.6864e-02,  2.2019e-03,  9.2228e-02],\n",
              "                        [ 3.9800e-02, -2.0269e-04,  7.6785e-02],\n",
              "                        [ 5.3763e-02, -8.6415e-02,  7.6320e-02]],\n",
              "              \n",
              "                       [[-2.5343e-02, -1.0534e-01, -6.1237e-02],\n",
              "                        [ 9.8258e-02,  3.5058e-02, -7.2546e-02],\n",
              "                        [-7.8373e-02,  4.7672e-02,  5.8408e-02]],\n",
              "              \n",
              "                       [[-5.6082e-02,  9.9634e-02, -7.5406e-02],\n",
              "                        [-9.2910e-02,  6.3482e-02,  9.0496e-02],\n",
              "                        [ 4.1760e-02, -9.0799e-02, -9.9737e-03]],\n",
              "              \n",
              "                       [[ 5.2233e-02, -8.5377e-02, -6.5630e-03],\n",
              "                        [-9.3840e-02,  9.9304e-02,  1.6936e-02],\n",
              "                        [-6.3141e-02, -2.7386e-02,  3.8975e-02]],\n",
              "              \n",
              "                       [[-7.4009e-02, -7.1383e-02,  5.9221e-02],\n",
              "                        [-1.0055e-02, -3.1222e-02,  9.6172e-02],\n",
              "                        [-2.7725e-03,  1.4130e-03,  1.5541e-03]],\n",
              "              \n",
              "                       [[-2.4045e-02, -3.5306e-02,  9.3672e-02],\n",
              "                        [ 6.5167e-02,  8.7894e-03,  4.7232e-02],\n",
              "                        [-2.7714e-02,  7.5485e-02, -3.5331e-02]],\n",
              "              \n",
              "                       [[-9.7803e-02, -1.1607e-02,  3.0406e-02],\n",
              "                        [ 4.9213e-02,  4.4905e-04,  3.3624e-02],\n",
              "                        [-2.4918e-02,  7.2767e-02,  4.1741e-02]],\n",
              "              \n",
              "                       [[-1.5702e-02,  1.8614e-02, -5.6046e-02],\n",
              "                        [ 3.9363e-02, -9.1174e-02,  7.9518e-02],\n",
              "                        [-9.4142e-02,  5.8591e-02, -3.0653e-02]],\n",
              "              \n",
              "                       [[-5.0385e-02,  2.1383e-03,  9.3267e-03],\n",
              "                        [ 8.4982e-02, -6.8884e-02, -1.0432e-01],\n",
              "                        [-3.0358e-02,  1.0186e-01,  3.0304e-02]],\n",
              "              \n",
              "                       [[-8.1746e-02,  7.9251e-02, -1.7768e-02],\n",
              "                        [ 7.7239e-02, -3.3101e-02, -4.6431e-02],\n",
              "                        [ 6.1397e-02, -4.7605e-02, -1.0335e-02]]],\n",
              "              \n",
              "              \n",
              "                      [[[-3.1450e-02,  5.5883e-02,  9.3437e-02],\n",
              "                        [-6.1155e-02,  5.9567e-03, -8.2248e-02],\n",
              "                        [-7.3879e-03, -4.8827e-02, -7.4849e-02]],\n",
              "              \n",
              "                       [[-3.5719e-02,  3.0078e-02, -6.9612e-02],\n",
              "                        [-7.9126e-02, -1.5843e-02,  7.9717e-02],\n",
              "                        [-3.2640e-02,  8.6830e-02, -1.6576e-02]],\n",
              "              \n",
              "                       [[-2.9297e-02,  3.5898e-02, -8.0538e-02],\n",
              "                        [ 9.2750e-02,  7.9369e-02,  7.0090e-02],\n",
              "                        [-5.2288e-02,  8.0649e-02,  8.7621e-02]],\n",
              "              \n",
              "                       [[ 3.7672e-02, -8.8983e-02, -6.2743e-02],\n",
              "                        [-8.4069e-02, -6.2601e-02, -5.2341e-02],\n",
              "                        [-4.0961e-02,  3.4924e-02, -5.7080e-02]],\n",
              "              \n",
              "                       [[-1.4322e-02,  9.3646e-02,  5.6743e-02],\n",
              "                        [-1.4227e-02,  1.4532e-02,  9.7564e-02],\n",
              "                        [ 5.3848e-02, -6.0361e-02, -5.4974e-02]],\n",
              "              \n",
              "                       [[ 7.7956e-02, -7.0206e-02,  1.4819e-02],\n",
              "                        [-6.3348e-02,  9.8720e-02, -2.8705e-02],\n",
              "                        [ 2.4534e-02, -4.4181e-02, -2.3289e-02]],\n",
              "              \n",
              "                       [[-8.4967e-02,  9.5444e-03,  4.2565e-02],\n",
              "                        [-3.3118e-02, -8.8770e-02,  1.0535e-01],\n",
              "                        [ 2.3624e-02,  9.1335e-02,  1.1372e-02]],\n",
              "              \n",
              "                       [[ 9.7738e-02,  5.7292e-02, -5.3205e-03],\n",
              "                        [-4.4143e-02,  1.4635e-02,  1.9890e-02],\n",
              "                        [ 9.3628e-02, -9.8300e-02,  1.5284e-02]],\n",
              "              \n",
              "                       [[-7.9569e-02, -9.0954e-02, -5.8869e-02],\n",
              "                        [-1.2448e-03,  5.8151e-02, -2.1443e-02],\n",
              "                        [ 9.7376e-02, -1.6119e-02,  9.5218e-02]],\n",
              "              \n",
              "                       [[ 4.5138e-02,  1.6385e-02, -6.1266e-02],\n",
              "                        [-6.8003e-02,  2.3592e-02,  7.4661e-02],\n",
              "                        [-8.0026e-02,  7.7816e-02,  9.4524e-02]]]], device='cuda:0')),\n",
              "             ('conv_block_2.2.bias',\n",
              "              tensor([-0.0204,  0.0144, -0.0694, -0.0729, -0.0583,  0.0239,  0.0191,  0.0794,\n",
              "                      -0.0291, -0.0507], device='cuda:0')),\n",
              "             ('classifier.1.weight',\n",
              "              tensor([[ 0.0080,  0.0277,  0.0396,  ...,  0.0200,  0.0409,  0.0108],\n",
              "                      [-0.0135, -0.0406, -0.0040,  ..., -0.0269, -0.0082,  0.0324],\n",
              "                      [ 0.0443, -0.0186, -0.0341,  ...,  0.0237,  0.0159,  0.0346],\n",
              "                      ...,\n",
              "                      [ 0.0375, -0.0174, -0.0014,  ..., -0.0058,  0.0350, -0.0038],\n",
              "                      [-0.0084,  0.0434,  0.0068,  ...,  0.0407, -0.0445, -0.0237],\n",
              "                      [-0.0090,  0.0093,  0.0002,  ..., -0.0274,  0.0218,  0.0036]],\n",
              "                     device='cuda:0')),\n",
              "             ('classifier.1.bias',\n",
              "              tensor([-0.0176,  0.0339, -0.0030,  0.0427,  0.0111,  0.0411,  0.0304,  0.0374,\n",
              "                      -0.0167,  0.0221], device='cuda:0'))])"
            ]
          },
          "execution_count": 14,
          "metadata": {},
          "output_type": "execute_result"
        }
      ],
      "source": [
        "# Check out the model state dict to find out what patterns our model wants to learn\n",
        "model.state_dict()"
      ]
    },
    {
      "cell_type": "code",
      "execution_count": 15,
      "metadata": {},
      "outputs": [
        {
          "data": {
            "text/plain": [
              "tensor([[-0.0153,  0.0606,  0.0122,  0.0424,  0.0051,  0.0500, -0.0192,  0.0529,\n",
              "         -0.0156,  0.0775]], device='cuda:0', grad_fn=<AddmmBackward0>)"
            ]
          },
          "execution_count": 15,
          "metadata": {},
          "output_type": "execute_result"
        }
      ],
      "source": [
        "# Try a dummy forward pass to see what shapes our data is\n",
        "dummy_x = torch.rand(size=(1, 28, 28)).unsqueeze(dim=0).to(device)\n",
        "# dummy_x.shape\n",
        "model(dummy_x)"
      ]
    },
    {
      "cell_type": "code",
      "execution_count": 16,
      "metadata": {},
      "outputs": [
        {
          "data": {
            "text/plain": [
              "torch.Size([1, 1, 28, 28])"
            ]
          },
          "execution_count": 16,
          "metadata": {},
          "output_type": "execute_result"
        }
      ],
      "source": [
        "dummy_x.shape"
      ]
    },
    {
      "cell_type": "code",
      "execution_count": 17,
      "metadata": {},
      "outputs": [
        {
          "data": {
            "text/plain": [
              "torch.Size([1, 10, 7, 7])"
            ]
          },
          "execution_count": 17,
          "metadata": {},
          "output_type": "execute_result"
        }
      ],
      "source": [
        "dummy_x_2 = torch.rand(size=([1, 10, 7, 7]))\n",
        "dummy_x_2.shape"
      ]
    },
    {
      "cell_type": "code",
      "execution_count": 18,
      "metadata": {},
      "outputs": [
        {
          "data": {
            "text/plain": [
              "torch.Size([1, 490])"
            ]
          },
          "execution_count": 18,
          "metadata": {},
          "output_type": "execute_result"
        }
      ],
      "source": [
        "flatten_layer = nn.Flatten()\n",
        "flatten_layer(dummy_x_2).shape"
      ]
    },
    {
      "cell_type": "markdown",
      "metadata": {
        "id": "sf_3zUr7xlhy"
      },
      "source": [
        "## 9. Train the model you built in exercise 8. for 5 epochs on CPU and GPU and see how long it takes on each."
      ]
    },
    {
      "cell_type": "code",
      "execution_count": 22,
      "metadata": {
        "id": "jSo6vVWFbNLD"
      },
      "outputs": [
        {
          "name": "stderr",
          "output_type": "stream",
          "text": [
            " 20%|██        | 1/5 [00:09<00:38,  9.62s/it]"
          ]
        },
        {
          "name": "stdout",
          "output_type": "stream",
          "text": [
            "Epoch: 0 | Loss: 0.254 | Test loss: 0.076\n"
          ]
        },
        {
          "name": "stderr",
          "output_type": "stream",
          "text": [
            " 40%|████      | 2/5 [00:19<00:28,  9.61s/it]"
          ]
        },
        {
          "name": "stdout",
          "output_type": "stream",
          "text": [
            "Epoch: 1 | Loss: 0.067 | Test loss: 0.047\n"
          ]
        },
        {
          "name": "stderr",
          "output_type": "stream",
          "text": [
            " 60%|██████    | 3/5 [00:28<00:19,  9.60s/it]"
          ]
        },
        {
          "name": "stdout",
          "output_type": "stream",
          "text": [
            "Epoch: 2 | Loss: 0.053 | Test loss: 0.044\n"
          ]
        },
        {
          "name": "stderr",
          "output_type": "stream",
          "text": [
            " 80%|████████  | 4/5 [00:38<00:09,  9.60s/it]"
          ]
        },
        {
          "name": "stdout",
          "output_type": "stream",
          "text": [
            "Epoch: 3 | Loss: 0.046 | Test loss: 0.049\n"
          ]
        },
        {
          "name": "stderr",
          "output_type": "stream",
          "text": [
            "100%|██████████| 5/5 [00:48<00:00,  9.62s/it]"
          ]
        },
        {
          "name": "stdout",
          "output_type": "stream",
          "text": [
            "Epoch: 4 | Loss: 0.041 | Test loss: 0.044\n",
            "CPU times: user 52.3 s, sys: 414 ms, total: 52.7 s\n",
            "Wall time: 48.1 s\n"
          ]
        },
        {
          "name": "stderr",
          "output_type": "stream",
          "text": [
            "\n"
          ]
        }
      ],
      "source": [
        "%%time\n",
        "\n",
        "from tqdm.auto import tqdm\n",
        "\n",
        "device = \"cuda\" if torch.cuda.is_available() else \"cpu\"\n",
        "\n",
        "# Train on GPU\n",
        "model_gpu = MNIST_model(input_shape=1, \n",
        "                        hidden_unit=10, \n",
        "                        output_shape=10).to(device)\n",
        "\n",
        "\n",
        "# Create a loss function and optimizer\n",
        "loss_fn = nn.CrossEntropyLoss()\n",
        "optimizer = torch.optim.SGD(model_gpu.parameters(), lr=0.1)\n",
        "\n",
        "# Training loop\n",
        "epochs = 5\n",
        "for epoch in tqdm(range(epochs)):\n",
        "    train_loss = 0\n",
        "    model_gpu.train()\n",
        "    for batch, (X, y) in enumerate(train_dataloader):\n",
        "        # Put data on target device\n",
        "        X, y = X.to(device), y.to(device)\n",
        "\n",
        "        # Forward pass\n",
        "        y_pred = model_gpu(X)\n",
        "\n",
        "        # Loss calculation\n",
        "        loss = loss_fn(y_pred, y)\n",
        "        train_loss += loss\n",
        "\n",
        "        # Optimizer zero grad\n",
        "        optimizer.zero_grad()\n",
        "\n",
        "        # Loss backward\n",
        "        loss.backward()\n",
        "\n",
        "        # Step the optimizer\n",
        "        optimizer.step()\n",
        "\n",
        "    # Adjust train loss to number of batches\n",
        "    train_loss /= len(train_dataloader)\n",
        "\n",
        "    ### Testing loop\n",
        "    test_loss_total = 0\n",
        "    # Put model in eval mode and turn on inference mode\n",
        "    model_gpu.eval()\n",
        "    with torch.inference_mode():\n",
        "        for batch, (X_test, y_test) in enumerate(test_dataloader):\n",
        "            # Make sure test data on target device\n",
        "            X_test, y_test = X_test.to(device), y_test.to(device)\n",
        "            \n",
        "            test_pred = model_gpu(X_test)\n",
        "            test_loss = loss_fn(test_pred, y_test)\n",
        "\n",
        "            test_loss_total += test_loss\n",
        "\n",
        "        # Adjust test loss total for number of batches\n",
        "        test_loss_total /= len(test_dataloader)\n",
        "    \n",
        "    # Print out what's happening\n",
        "    print(f\"Epoch: {epoch} | Loss: {train_loss:.3f} | Test loss: {test_loss_total:.3f}\")"
      ]
    },
    {
      "cell_type": "markdown",
      "metadata": {
        "id": "w1CsHhPpxp1w"
      },
      "source": [
        "## 10. Make predictions using your trained model and visualize at least 5 of them comparing the prediciton to the target label."
      ]
    },
    {
      "cell_type": "code",
      "execution_count": 23,
      "metadata": {
        "id": "_YGgZvSobNxu"
      },
      "outputs": [
        {
          "data": {
            "text/plain": [
              "<matplotlib.image.AxesImage at 0x7f7de8f81ee0>"
            ]
          },
          "execution_count": 23,
          "metadata": {},
          "output_type": "execute_result"
        },
        {
          "data": {
            "image/png": "[encoded data removed]",
            "text/plain": [
              "<Figure size 640x480 with 1 Axes>"
            ]
          },
          "metadata": {},
          "output_type": "display_data"
        }
      ],
      "source": [
        "# Nake prediction with the trained model\n",
        "plt.imshow(test_data[0][0].squeeze(), cmap=\"gray\")"
      ]
    },
    {
      "cell_type": "code",
      "execution_count": 24,
      "metadata": {},
      "outputs": [
        {
          "data": {
            "text/plain": [
              "tensor([7], device='cuda:0')"
            ]
          },
          "execution_count": 24,
          "metadata": {},
          "output_type": "execute_result"
        }
      ],
      "source": [
        "# Logits -> Prediction probabilities -> Prediction labels\n",
        "model_pred_logits = model_gpu(test_data[0][0].unsqueeze(dim=0).to(device)) # make sure image is right shape + on right device\n",
        "model_pred_probs = torch.softmax(model_pred_logits, dim=1)\n",
        "model_pred_label = torch.argmax(model_pred_probs, dim=1)\n",
        "model_pred_label"
      ]
    },
    {
      "cell_type": "code",
      "execution_count": 25,
      "metadata": {},
      "outputs": [
        {
          "data": {
            "image/png": "[encoded data removed]",
            "text/plain": [
              "<Figure size 640x480 with 1 Axes>"
            ]
          },
          "metadata": {},
          "output_type": "display_data"
        },
        {
          "data": {
            "image/png": "[encoded data removed]",
            "text/plain": [
              "<Figure size 640x480 with 1 Axes>"
            ]
          },
          "metadata": {},
          "output_type": "display_data"
        },
        {
          "data": {
            "image/png": "[encoded data removed]",
            "text/plain": [
              "<Figure size 640x480 with 1 Axes>"
            ]
          },
          "metadata": {},
          "output_type": "display_data"
        },
        {
          "data": {
            "image/png": "[encoded data removed]",
            "text/plain": [
              "<Figure size 640x480 with 1 Axes>"
            ]
          },
          "metadata": {},
          "output_type": "display_data"
        },
        {
          "data": {
            "image/png": "[encoded data removed]",
            "text/plain": [
              "<Figure size 640x480 with 1 Axes>"
            ]
          },
          "metadata": {},
          "output_type": "display_data"
        }
      ],
      "source": [
        "num_to_plot = 5 \n",
        "for i in range(num_to_plot):\n",
        "    # Get image and labels from the test data\n",
        "    img = test_data[i][0]\n",
        "    label = test_data[i][1]\n",
        "\n",
        "    # Make prediction on image\n",
        "    model_pred_logits = model_gpu(img.unsqueeze(dim=0).to(device))\n",
        "    model_pred_probs = torch.softmax(model_pred_logits, dim=1)\n",
        "    model_pred_label = torch.argmax(model_pred_probs, dim=1)\n",
        "\n",
        "    # Plot the image and prediction\n",
        "    plt.figure()\n",
        "    plt.imshow(img.squeeze(), cmap=\"gray\")\n",
        "    plt.title(f\"Truth: {label} | Pred: {model_pred_label.cpu().item()}\") \n",
        "    plt.axis(False);"
      ]
    },
    {
      "cell_type": "markdown",
      "metadata": {
        "id": "qQwzqlBWxrpG"
      },
      "source": [
        "## 11. Plot a confusion matrix comparing your model's predictions to the truth labels."
      ]
    },
    {
      "cell_type": "code",
      "execution_count": 26,
      "metadata": {
        "id": "vSrXiT_AbQ6e"
      },
      "outputs": [
        {
          "name": "stdout",
          "output_type": "stream",
          "text": [
            "mlxtend version: 0.23.4\n"
          ]
        }
      ],
      "source": [
        "# See if torchmetrics exists, if not, install it\n",
        "try:\n",
        "    import torchmetrics, mlxtend\n",
        "    print(f\"mlxtend version: {mlxtend.__version__}\")\n",
        "    assert int(mlxtend.__version__.split(\".\")[1]) >= 19, \"mlxtend verison should be 0.19.0 or higher\"\n",
        "except:\n",
        "    !pip install -q torchmetrics -U mlxtend # <- Note: If you're using Google Colab, this may require restarting the runtime\n",
        "    import torchmetrics, mlxtend\n",
        "    print(f\"mlxtend version: {mlxtend.__version__}\")"
      ]
    },
    {
      "cell_type": "code",
      "execution_count": 27,
      "metadata": {},
      "outputs": [
        {
          "name": "stdout",
          "output_type": "stream",
          "text": [
            "0.23.4\n"
          ]
        }
      ],
      "source": [
        "# Import mlxtend upgraded version\n",
        "import mlxtend \n",
        "print(mlxtend.__version__)\n",
        "assert int(mlxtend.__version__.split(\".\")[1]) >= 19 # should be version 0.19.0 or higher"
      ]
    },
    {
      "cell_type": "code",
      "execution_count": 28,
      "metadata": {},
      "outputs": [
        {
          "name": "stderr",
          "output_type": "stream",
          "text": [
            "313it [00:00, 380.87it/s]\n"
          ]
        },
        {
          "data": {
            "text/plain": [
              "10000"
            ]
          },
          "execution_count": 28,
          "metadata": {},
          "output_type": "execute_result"
        }
      ],
      "source": [
        "# Make predictions across all test data\n",
        "from tqdm.auto import tqdm\n",
        "model_gpu.eval()\n",
        "y_preds = []\n",
        "with torch.inference_mode():\n",
        "  for batch, (X, y) in tqdm(enumerate(test_dataloader)):\n",
        "    # Make sure data on right device\n",
        "    X, y = X.to(device), y.to(device)\n",
        "    # Forward pass\n",
        "    y_pred_logits = model_gpu(X)\n",
        "    # Logits -> Pred probs -> Pred label\n",
        "    y_pred_labels = torch.argmax(torch.softmax(y_pred_logits, dim=1), dim=1)\n",
        "    # Append the labels to the preds list\n",
        "    y_preds.append(y_pred_labels)\n",
        "  y_preds=torch.cat(y_preds).cpu()\n",
        "len(y_preds) "
      ]
    },
    {
      "cell_type": "code",
      "execution_count": 32,
      "metadata": {},
      "outputs": [
        {
          "data": {
            "text/plain": [
              "['0 - zero',\n",
              " '1 - one',\n",
              " '2 - two',\n",
              " '3 - three',\n",
              " '4 - four',\n",
              " '5 - five',\n",
              " '6 - six',\n",
              " '7 - seven',\n",
              " '8 - eight',\n",
              " '9 - nine']"
            ]
          },
          "execution_count": 32,
          "metadata": {},
          "output_type": "execute_result"
        }
      ],
      "source": [
        "# Get the class names from the dataset\n",
        "class_names = train_data.classes\n",
        "class_names"
      ]
    },
    {
      "cell_type": "code",
      "execution_count": 29,
      "metadata": {},
      "outputs": [
        {
          "data": {
            "text/plain": [
              "(tensor([7, 2, 1, 0, 4, 1, 4, 9, 5, 9]),\n",
              " tensor([7, 2, 1, 0, 4, 1, 4, 9, 5, 9]))"
            ]
          },
          "execution_count": 29,
          "metadata": {},
          "output_type": "execute_result"
        }
      ],
      "source": [
        "test_data.targets[:10], y_preds[:10]"
      ]
    },
    {
      "cell_type": "code",
      "execution_count": 33,
      "metadata": {},
      "outputs": [
        {
          "data": {
            "image/png": "[encoded data removed]",
            "text/plain": [
              "<Figure size 1000x700 with 1 Axes>"
            ]
          },
          "metadata": {},
          "output_type": "display_data"
        }
      ],
      "source": [
        "from torchmetrics import ConfusionMatrix\n",
        "from mlxtend.plotting import plot_confusion_matrix\n",
        "\n",
        "# Setup confusion matrix \n",
        "confmat = ConfusionMatrix(task=\"multiclass\", num_classes=len(class_names))\n",
        "confmat_tensor = confmat(preds=y_preds,\n",
        "                         target=test_data.targets)\n",
        "\n",
        "# Plot the confusion matrix\n",
        "fix, ax = plot_confusion_matrix(\n",
        "    conf_mat=confmat_tensor.numpy(),\n",
        "    class_names=class_names,\n",
        "    figsize=(10, 7)\n",
        ")"
      ]
    },
    {
      "cell_type": "markdown",
      "metadata": {
        "id": "lj6bDhoWxt2y"
      },
      "source": [
        "## 12. Create a random tensor of shape `[1, 3, 64, 64]` and pass it through a `nn.Conv2d()` layer with various hyperparameter settings (these can be any settings you choose), what do you notice if the `kernel_size` parameter goes up and down?"
      ]
    },
    {
      "cell_type": "code",
      "execution_count": 34,
      "metadata": {
        "id": "leCTsqtSbR5P"
      },
      "outputs": [
        {
          "data": {
            "text/plain": [
              "torch.Size([1, 3, 64, 64])"
            ]
          },
          "execution_count": 34,
          "metadata": {},
          "output_type": "execute_result"
        }
      ],
      "source": [
        "random_tensor = torch.rand([1, 3, 64, 64])\n",
        "random_tensor.shape"
      ]
    },
    {
      "cell_type": "code",
      "execution_count": 35,
      "metadata": {},
      "outputs": [
        {
          "name": "stdout",
          "output_type": "stream",
          "text": [
            "Random tensor original shape: torch.Size([1, 3, 64, 64])\n",
            "Random tensor through conv layer shape: torch.Size([1, 64, 32, 32])\n"
          ]
        }
      ],
      "source": [
        "conv_layer = nn.Conv2d(in_channels=3,\n",
        "                       out_channels=64,\n",
        "                       kernel_size=3,\n",
        "                       stride=2,\n",
        "                       padding=1)\n",
        "print(f\"Random tensor original shape: {random_tensor.shape}\")\n",
        "random_tensor_through_conv_layer = conv_layer(random_tensor)\n",
        "print(f\"Random tensor through conv layer shape: {random_tensor_through_conv_layer.shape}\")"
      ]
    },
    {
      "cell_type": "markdown",
      "metadata": {
        "id": "VHS20cNTxwSi"
      },
      "source": [
        "## 13. Use a model similar to the trained `model_2` from notebook 03 to make predictions on the test [`torchvision.datasets.FashionMNIST`](https://pytorch.org/vision/main/generated/torchvision.datasets.FashionMNIST.html) dataset. \n",
        "* Then plot some predictions where the model was wrong alongside what the label of the image should've been. \n",
        "* After visualing these predictions do you think it's more of a modelling error or a data error? \n",
        "* As in, could the model do better or are the labels of the data too close to each other (e.g. a \"Shirt\" label is too close to \"T-shirt/top\")?"
      ]
    },
    {
      "cell_type": "code",
      "execution_count": null,
      "metadata": {
        "id": "78a8LjtdbSZj"
      },
      "outputs": [],
      "source": []
    }
  ],
  "metadata": {
    "accelerator": "GPU",
    "colab": {
      "authorship_tag": "ABX9TyMUsDcN/+FAm9Pf7Ifqs6AZ",
      "collapsed_sections": [],
      "include_colab_link": true,
      "name": "03_pytorch_computer_vision_exercises.ipynb",
      "provenance": []
    },
    "kernelspec": {
      "display_name": "pytorh_ssliang",
      "language": "python",
      "name": "python3"
    },
    "language_info": {
      "codemirror_mode": {
        "name": "ipython",
        "version": 3
      },
      "file_extension": ".py",
      "mimetype": "text/x-python",
      "name": "python",
      "nbconvert_exporter": "python",
      "pygments_lexer": "ipython3",
      "version": "3.9.23"
    }
  },
  "nbformat": 4,
  "nbformat_minor": 0
}
