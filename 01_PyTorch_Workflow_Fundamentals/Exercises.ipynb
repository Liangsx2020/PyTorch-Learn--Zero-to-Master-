{
 "cells": [
  {
   "cell_type": "code",
   "execution_count": 2,
   "id": "861c21ba",
   "metadata": {},
   "outputs": [
    {
     "name": "stdout",
     "output_type": "stream",
     "text": [
      "Using device: cuda\n"
     ]
    }
   ],
   "source": [
    "import torch\n",
    "from torch import nn\n",
    "import matplotlib.pyplot as plt\n",
    "\n",
    "device = \"cuda\" if torch.cuda.is_available() else \"cpu\"\n",
    "print(f\"Using device: {device}\")"
   ]
  },
  {
   "cell_type": "code",
   "execution_count": 3,
   "id": "b6a6d683",
   "metadata": {},
   "outputs": [],
   "source": [
    "def plot_predictions(train_data,\n",
    "                     train_labels,\n",
    "                     test_data,\n",
    "                     test_labels,\n",
    "                     predictions=None):\n",
    "    \"\"\"\n",
    "    Plots training data, test data and compares predictions.\n",
    "    \"\"\"\n",
    "    plt.figure(figsize=(10, 7))\n",
    "\n",
    "    # Plot training data in blue\n",
    "    plt.scatter(train_data, train_labels, c=\"b\", s=4, label=\"Training data\")\n",
    "\n",
    "    # Plot test data ub green\n",
    "    plt.scatter(test_data, test_labels, c=\"g\", s=4, label=\"Testing data\")\n",
    "\n",
    "    if predictions is not None:\n",
    "        # Plot the predictions in red (predictions were made on the test data)\n",
    "        plt.scatter(test_data, predictions, c=\"r\", s=4, label=\"Predictions\")\n",
    "    # Show the legend\n",
    "    plt.legend(prop={\"size\": 14});"
   ]
  },
  {
   "cell_type": "code",
   "execution_count": 4,
   "id": "e42a93bf",
   "metadata": {},
   "outputs": [
    {
     "data": {
      "text/plain": [
       "(800, 800, 200, 200)"
      ]
     },
     "execution_count": 4,
     "metadata": {},
     "output_type": "execute_result"
    }
   ],
   "source": [
    "weight, bias = 0.3, 0.9\n",
    "\n",
    "start = 0\n",
    "end = 1\n",
    "step = 0.001\n",
    "\n",
    "X = torch.arange(start, end, step).unsqueeze(dim=1)\n",
    "y = weight * X + bias\n",
    "\n",
    "train_split = int(0.8 * len(X))\n",
    "\n",
    "X_train, y_train = X[:train_split], y[:train_split]\n",
    "X_test, y_test = X[train_split:], y[train_split:]\n",
    "\n",
    "len(X_train), len(y_train), len(X_test), len(y_test)"
   ]
  },
  {
   "cell_type": "code",
   "execution_count": 5,
   "id": "16c93ef3",
   "metadata": {},
   "outputs": [
    {
     "data": {
      "image/png": "[encoded data removed]",
      "text/plain": [
       "<Figure size 1000x700 with 1 Axes>"
      ]
     },
     "metadata": {},
     "output_type": "display_data"
    }
   ],
   "source": [
    "plot_predictions(X_train, y_train, X_test, y_test)"
   ]
  },
  {
   "cell_type": "code",
   "execution_count": 6,
   "id": "7c16bce5",
   "metadata": {},
   "outputs": [
    {
     "data": {
      "text/plain": [
       "(LinearRegressionModel(),\n",
       " OrderedDict([('weight', tensor([0.0461], device='cuda:0')),\n",
       "              ('bias', tensor([0.4024], device='cuda:0'))]),\n",
       " device(type='cuda', index=0))"
      ]
     },
     "execution_count": 6,
     "metadata": {},
     "output_type": "execute_result"
    }
   ],
   "source": [
    "class LinearRegressionModel(nn.Module):\n",
    "    def __init__(self):\n",
    "        super().__init__()\n",
    "        self.weight = nn.Parameter(torch.randn(1, dtype=torch.float),requires_grad=True)\n",
    "        self.bias = nn.Parameter(torch.randn(1, dtype=torch.float), requires_grad=True)\n",
    "\n",
    "    def forward(self, x:torch.Tensor) -> torch.Tensor:\n",
    "        return self.weight * x + self.bias\n",
    "    \n",
    "torch.manual_seed(1234)\n",
    "model = LinearRegressionModel().to(device)\n",
    "model, model.state_dict(), next(model.parameters()).device"
   ]
  },
  {
   "cell_type": "code",
   "execution_count": 7,
   "id": "1b850fe8",
   "metadata": {},
   "outputs": [],
   "source": [
    "# Create a loss function\n",
    "loss_fn = nn.L1Loss()\n",
    "\n",
    "# Create a optimizer\n",
    "optimizer = torch.optim.SGD(params=model.parameters(), lr=0.01)"
   ]
  },
  {
   "cell_type": "code",
   "execution_count": 8,
   "id": "bfb3ac12",
   "metadata": {},
   "outputs": [
    {
     "name": "stdout",
     "output_type": "stream",
     "text": [
      "Epoch 0: Train Loss: 0.5990, Test Loss: 0.7124\n",
      "Epoch 20: Train Loss: 0.3671, Test Loss: 0.4405\n",
      "Epoch 40: Train Loss: 0.1352, Test Loss: 0.1686\n",
      "Epoch 60: Train Loss: 0.0064, Test Loss: 0.0141\n",
      "Epoch 80: Train Loss: 0.0080, Test Loss: 0.0059\n",
      "Epoch 100: Train Loss: 0.0080, Test Loss: 0.0059\n",
      "Epoch 120: Train Loss: 0.0080, Test Loss: 0.0059\n",
      "Epoch 140: Train Loss: 0.0080, Test Loss: 0.0059\n",
      "Epoch 160: Train Loss: 0.0080, Test Loss: 0.0059\n",
      "Epoch 180: Train Loss: 0.0080, Test Loss: 0.0059\n",
      "Epoch 200: Train Loss: 0.0080, Test Loss: 0.0059\n",
      "Epoch 220: Train Loss: 0.0080, Test Loss: 0.0059\n",
      "Epoch 240: Train Loss: 0.0080, Test Loss: 0.0059\n",
      "Epoch 260: Train Loss: 0.0080, Test Loss: 0.0059\n",
      "Epoch 280: Train Loss: 0.0080, Test Loss: 0.0059\n"
     ]
    }
   ],
   "source": [
    "torch.manual_seed(1234)\n",
    "\n",
    "X_train = X_train.to(device)\n",
    "y_train = y_train.to(device)\n",
    "X_test = X_test.to(device)\n",
    "y_test = y_test.to(device)\n",
    "\n",
    "epochs = 300\n",
    "\n",
    "for epoch in range(epochs):\n",
    "    ### Training\n",
    "    model.train()\n",
    "\n",
    "    # 1. Forward pass\n",
    "    y_pred = model(X_train)\n",
    "\n",
    "    # 2. Calculate the loss\n",
    "    loss = loss_fn(y_pred, y_train)\n",
    "\n",
    "    # 3. Zero grad\n",
    "    optimizer.zero_grad()\n",
    "\n",
    "    # 4. Loss backward\n",
    "    loss.backward()\n",
    "\n",
    "    # 5. Step optimizer\n",
    "    optimizer.step()\n",
    "\n",
    "    ### validation\n",
    "    model.eval()\n",
    "\n",
    "    # inference mode\n",
    "    with torch.inference_mode():\n",
    "        # Forward pass\n",
    "        test_preds = model(X_test)\n",
    "        # Calculate the loss\n",
    "        test_loss = loss_fn(test_preds, y_test)\n",
    "\n",
    "    if epoch % 20 == 0:\n",
    "        print(f\"Epoch {epoch}: Train Loss: {loss.item():.4f}, Test Loss: {test_loss.item():.4f}\")"
   ]
  },
  {
   "cell_type": "code",
   "execution_count": 9,
   "id": "6a3d9360",
   "metadata": {},
   "outputs": [
    {
     "name": "stdout",
     "output_type": "stream",
     "text": [
      "The model learned the following values for weights and bias:\n",
      "OrderedDict([('weight', tensor([0.2996], device='cuda:0')),\n",
      "             ('bias', tensor([0.9081], device='cuda:0'))])\n",
      "\n",
      "And the original values for weights and bias are:\n",
      "'weights: 0.3, bias: 0.9'\n"
     ]
    }
   ],
   "source": [
    "# Find our model's parameters\n",
    "from pprint import pprint as pp # # pprint = pretty print, see: https://docs.python.org/3/library/pprint.html \n",
    "print(\"The model learned the following values for weights and bias:\")\n",
    "pp(model.state_dict())\n",
    "print(\"\\nAnd the original values for weights and bias are:\")\n",
    "pp(f\"weights: {weight}, bias: {bias}\")"
   ]
  },
  {
   "cell_type": "code",
   "execution_count": 10,
   "id": "35f80ab0",
   "metadata": {},
   "outputs": [
    {
     "data": {
      "text/plain": [
       "tensor([[1.1478],\n",
       "        [1.1481],\n",
       "        [1.1484],\n",
       "        [1.1487],\n",
       "        [1.1490],\n",
       "        [1.1493],\n",
       "        [1.1496],\n",
       "        [1.1499],\n",
       "        [1.1502],\n",
       "        [1.1505]], device='cuda:0')"
      ]
     },
     "execution_count": 10,
     "metadata": {},
     "output_type": "execute_result"
    }
   ],
   "source": [
    "model.eval()\n",
    "\n",
    "with torch.inference_mode():\n",
    "    y_preds = model(X_test)\n",
    "\n",
    "y_preds[:10]"
   ]
  },
  {
   "cell_type": "code",
   "execution_count": 11,
   "id": "991f29a0",
   "metadata": {},
   "outputs": [
    {
     "data": {
      "image/png": "[encoded data removed]",
      "text/plain": [
       "<Figure size 1000x700 with 1 Axes>"
      ]
     },
     "metadata": {},
     "output_type": "display_data"
    }
   ],
   "source": [
    "plot_predictions(X_train.cpu(), y_train.cpu(), X_test.cpu(), y_test.cpu(), predictions=y_preds.cpu())"
   ]
  },
  {
   "cell_type": "code",
   "execution_count": 12,
   "id": "75fb0c09",
   "metadata": {},
   "outputs": [
    {
     "name": "stdout",
     "output_type": "stream",
     "text": [
      "Saving model state_dict to: models/01_exercise.pth\n"
     ]
    }
   ],
   "source": [
    "from pathlib import Path\n",
    "\n",
    "# Save the trained model's state_dict() to file \n",
    "MODEL_PATH = Path(\"models\")\n",
    "MODEL_PATH.mkdir(parents=True, exist_ok=True)\n",
    "\n",
    "MODEL_NAME = \"01_exercise.pth\"\n",
    "MODEL_SAVE_PATH = MODEL_PATH / MODEL_NAME\n",
    "\n",
    "# Save the model's state_dict\n",
    "print(f\"Saving model state_dict to: {MODEL_SAVE_PATH}\")\n",
    "torch.save(model.state_dict(), f=MODEL_SAVE_PATH)"
   ]
  },
  {
   "cell_type": "code",
   "execution_count": 13,
   "id": "36097d5b",
   "metadata": {},
   "outputs": [
    {
     "name": "stdout",
     "output_type": "stream",
     "text": [
      "Load model:\n",
      " LinearRegressionModel()\n",
      "Model device: \n",
      " Parameter containing:\n",
      "tensor([0.2996], device='cuda:0', requires_grad=True)\n"
     ]
    }
   ],
   "source": [
    "# Create a new instance\n",
    "model_val = LinearRegressionModel()\n",
    "\n",
    "model_val.load_state_dict(torch.load(MODEL_SAVE_PATH))\n",
    "\n",
    "model_val.to(device)\n",
    "\n",
    "print(f\"Load model:\\n {model_val}\")\n",
    "print(f\"Model device: \\n {next(model_val.parameters()).to(device)}\")"
   ]
  },
  {
   "cell_type": "code",
   "execution_count": 15,
   "id": "dfdd2785",
   "metadata": {},
   "outputs": [
    {
     "data": {
      "text/plain": [
       "tensor([[True],\n",
       "        [True],\n",
       "        [True],\n",
       "        [True],\n",
       "        [True],\n",
       "        [True],\n",
       "        [True],\n",
       "        [True],\n",
       "        [True],\n",
       "        [True]], device='cuda:0')"
      ]
     },
     "execution_count": 15,
     "metadata": {},
     "output_type": "execute_result"
    }
   ],
   "source": [
    "# vs\n",
    "model_val.eval()\n",
    "\n",
    "with torch.inference_mode():\n",
    "    loaded_preds = model_val(X_test)\n",
    "\n",
    "y_preds[:10] == loaded_preds[:10]"
   ]
  }
 ],
 "metadata": {
  "kernelspec": {
   "display_name": "pytorh_ssliang",
   "language": "python",
   "name": "python3"
  },
  "language_info": {
   "codemirror_mode": {
    "name": "ipython",
    "version": 3
   },
   "file_extension": ".py",
   "mimetype": "text/x-python",
   "name": "python",
   "nbconvert_exporter": "python",
   "pygments_lexer": "ipython3",
   "version": "3.9.23"
  }
 },
 "nbformat": 4,
 "nbformat_minor": 5
}
